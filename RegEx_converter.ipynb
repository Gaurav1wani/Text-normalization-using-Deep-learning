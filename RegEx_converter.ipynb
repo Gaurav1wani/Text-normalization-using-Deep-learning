{
 "cells": [
  {
   "cell_type": "markdown",
   "metadata": {},
   "source": [
    "# Import required files"
   ]
  },
  {
   "cell_type": "code",
   "execution_count": 3,
   "metadata": {},
   "outputs": [
    {
     "name": "stderr",
     "output_type": "stream",
     "text": [
      "/usr/lib/python3.5/importlib/_bootstrap.py:222: RuntimeWarning: numpy.dtype size changed, may indicate binary incompatibility. Expected 96, got 88\n",
      "  return f(*args, **kwds)\n",
      "/usr/lib/python3.5/importlib/_bootstrap.py:222: RuntimeWarning: numpy.dtype size changed, may indicate binary incompatibility. Expected 96, got 88\n",
      "  return f(*args, **kwds)\n"
     ]
    }
   ],
   "source": [
    "import numpy as np # linear algebra\n",
    "import pandas as pd # data processing, CSV file I/O (e.g. pd.read_csv)\n",
    "import inflect\n",
    "from num2words import num2words \n",
    "import re"
   ]
  },
  {
   "cell_type": "code",
   "execution_count": 74,
   "metadata": {},
   "outputs": [],
   "source": [
    "#from subprocess import check_output\n",
    "#print(check_output([\"ls\", \"../input\"]).decode(\"utf8\"))\n",
    "p = inflect.engine()"
   ]
  },
  {
   "cell_type": "markdown",
   "metadata": {},
   "source": [
    "# Cardinal class conversion"
   ]
  },
  {
   "cell_type": "code",
   "execution_count": 75,
   "metadata": {},
   "outputs": [],
   "source": [
    "def cardinal(x):\n",
    "    try:\n",
    "        if re.match('.*V|X|I|L|D',x):            \n",
    "            x = rom_to_int(x)\n",
    "            return num2words(x)\n",
    "        if re.match('.*[A-Za-z]+.*', x):\n",
    "            return x        \n",
    "        x = re.sub(',', '', x, count = 10)\n",
    "\n",
    "        if(re.match('.+\\..*', x)):\n",
    "            x = p.number_to_words(float(x))\n",
    "        elif re.match('\\..*', x): \n",
    "            x = p.number_to_words(float(x))\n",
    "            x = x.replace('zero ', '', 1)\n",
    "        else:\n",
    "            x = p.number_to_words(int(x))\n",
    "        x = x.replace('zero', 'o')    \n",
    "        x = re.sub('-', ' ', x, count=10)\n",
    "        x = re.sub(' and','',x, count = 10)\n",
    "        x = re.sub(',', '', x, count = 10)\n",
    "        return x\n",
    "    except:\n",
    "        return x"
   ]
  },
  {
   "cell_type": "markdown",
   "metadata": {},
   "source": [
    "# Digit converter"
   ]
  },
  {
   "cell_type": "code",
   "execution_count": 76,
   "metadata": {},
   "outputs": [],
   "source": [
    "def digit(x): \n",
    "    try:\n",
    "        x = re.sub('[^0-9]', '',x)\n",
    "        result_string = ''\n",
    "        for i in x:\n",
    "            result_string = result_string + cardinal(i) + ' '\n",
    "        result_string = result_string.strip()\n",
    "        return result_string\n",
    "    except:\n",
    "        return(x) "
   ]
  },
  {
   "cell_type": "markdown",
   "metadata": {},
   "source": [
    "# Letter conversion function"
   ]
  },
  {
   "cell_type": "code",
   "execution_count": 106,
   "metadata": {},
   "outputs": [],
   "source": [
    "def letters(x):\n",
    "    try:\n",
    "        x = re.sub('[^a-zA-Z]', '', x)\n",
    "        x = x.lower()\n",
    "        result_string = ''\n",
    "        for i in range(len(x)):\n",
    "            result_string = result_string + x[i] + ' '\n",
    "        return(result_string.strip())  \n",
    "    except:\n",
    "        return x"
   ]
  },
  {
   "cell_type": "markdown",
   "metadata": {},
   "source": [
    "# Ordinal class"
   ]
  },
  {
   "cell_type": "code",
   "execution_count": 60,
   "metadata": {},
   "outputs": [],
   "source": [
    "def rom_to_int(string):\n",
    "\n",
    "    table=[['M',1000],['CM',900],['D',500],['CD',400],['C',100],['XC',90],['L',50],['XL',40],['X',10],['IX',9],['V',5],['IV',4],['I',1]]\n",
    "    returnint=0\n",
    "    for pair in table:\n",
    "\n",
    "\n",
    "        continueyes=True\n",
    "\n",
    "        while continueyes:\n",
    "            if len(string)>=len(pair[0]):\n",
    "\n",
    "                if string[0:len(pair[0])]==pair[0]:\n",
    "                    returnint+=pair[1]\n",
    "                    string=string[len(pair[0]):]\n",
    "\n",
    "                else: continueyes=False\n",
    "            else: continueyes=False\n",
    "\n",
    "    return returnint    \n",
    "def ordinal(x):\n",
    "    try:\n",
    "        result_string = ''\n",
    "        x = x.replace(',', '')\n",
    "        x = x.replace('[\\.]$', '')\n",
    "        if re.match('^[0-9]+$',x):\n",
    "            x = num2words(int(x), ordinal=True)\n",
    "            return(x.replace('-', ' '))\n",
    "        if re.match('.*V|X|I|L|D',x):\n",
    "            if re.match('.*th|st|nd|rd',x):\n",
    "                x = x[0:len(x)-2]\n",
    "                x = rom_to_int(x)\n",
    "                result_string = re.sub('-', ' ',  num2words(x, ordinal=True))\n",
    "            else:\n",
    "                x = rom_to_int(x)\n",
    "                result_string = 'the '+ re.sub('-', ' ',  num2words(x, ordinal=True))\n",
    "        else:\n",
    "            x = x[0:len(x)-2]\n",
    "            result_string = re.sub('-', ' ',  num2words(float(x), ordinal=True))\n",
    "        return(result_string)  \n",
    "    except:\n",
    "        return x"
   ]
  },
  {
   "cell_type": "markdown",
   "metadata": {},
   "source": [
    "# Converter for Address"
   ]
  },
  {
   "cell_type": "code",
   "execution_count": 85,
   "metadata": {},
   "outputs": [],
   "source": [
    "def address(x):\n",
    "    try:\n",
    "        x = re.sub('[^0-9a-zA-Z]+', '', x)\n",
    "        result_string = ''\n",
    "        for i in range(0,len(x)):\n",
    "            if re.match('[A-Z]+',x[i]):                \n",
    "                result_string = result_string + (x[i]).lower() + ' '                \n",
    "            else:\n",
    "                result_string = result_string + cardinal(x[i]) + ' '         \n",
    "        return(result_string.strip())        \n",
    "    except:    \n",
    "        return(x)"
   ]
  },
  {
   "cell_type": "markdown",
   "metadata": {},
   "source": [
    "# Telephone class prediction"
   ]
  },
  {
   "cell_type": "code",
   "execution_count": 87,
   "metadata": {},
   "outputs": [],
   "source": [
    "def telephone(x):\n",
    "    try:\n",
    "        result_string = ''\n",
    "        \n",
    "        for i in range(0,len(x)):\n",
    "            if re.match('[0-9]+', x[i]):\n",
    "                result_string = result_string + cardinal(x[i]) + ' '\n",
    "            else:\n",
    "                result_string = result_string + 'sil '\n",
    "        return result_string.strip()    \n",
    "    except:    \n",
    "        return(x)"
   ]
  },
  {
   "cell_type": "markdown",
   "metadata": {},
   "source": [
    "# Electronic class converter"
   ]
  },
  {
   "cell_type": "code",
   "execution_count": 89,
   "metadata": {},
   "outputs": [],
   "source": [
    "def electronic(x):\n",
    "    try:\n",
    "        replacement = {'.' : 'dot', ':' : 'colon', '/':'slash', '-' : 'dash', '#' : 'hash tag', }\n",
    "        result_string = ''\n",
    "        if re.match('.*[A-Za-z].*', x):\n",
    "            for char in x:\n",
    "                if re.match('[A-Za-z]', char):\n",
    "                    result_string = result_string + letters(char) + ' '\n",
    "                elif char in replacement:\n",
    "                    result_string = result_string + replacement[char] + ' '\n",
    "                elif re.match('[0-9]', char):\n",
    "                    if char == 0:\n",
    "                        result_string = result_string + 'o '\n",
    "                    else:\n",
    "                        number = cardinal(char)\n",
    "                        for n in number:\n",
    "                            result_string = result_string + n + ' ' \n",
    "            return result_string.strip()                \n",
    "        else:\n",
    "            return(x)\n",
    "    except:    \n",
    "        return(x)"
   ]
  },
  {
   "cell_type": "markdown",
   "metadata": {},
   "source": [
    "# Fraction class converter"
   ]
  },
  {
   "cell_type": "code",
   "execution_count": 112,
   "metadata": {},
   "outputs": [],
   "source": [
    "def fraction(x):\n",
    "    try:\n",
    "        y = x.split('/')        \n",
    "        result_string = ''\n",
    "        y[0] = cardinal(y[0].strip())        \n",
    "        y[1] = ordinal(y[1].strip())\n",
    "        if y[1] == 4:\n",
    "            result_string = y[0] + ' quarters'\n",
    "        else:    \n",
    "            result_string = y[0] + ' ' + y[1] + 's'\n",
    "        return(result_string)\n",
    "    except:    \n",
    "        return(x)"
   ]
  },
  {
   "cell_type": "markdown",
   "metadata": {},
   "source": [
    "# Converter for Money class"
   ]
  },
  {
   "cell_type": "code",
   "execution_count": 116,
   "metadata": {},
   "outputs": [],
   "source": [
    "def money(x):\n",
    "    try:\n",
    "        if re.match('^\\$', x):\n",
    "            x = x.replace('$','')\n",
    "            if len(x.split(' ')) == 1:\n",
    "                if re.match('.*M|m$',x):\n",
    "                    x = x.replace('M', '')\n",
    "                    x = x.replace('m', '')\n",
    "                    text = cardinal(x)\n",
    "                    x = text + ' million dollars'\n",
    "                elif re.match('.*b|B$', x):\n",
    "                    x = x.replace('B', '')\n",
    "                    x = x.replace('b', '')\n",
    "                    text = cardinal(x)\n",
    "                    x = text + ' million dollars'\n",
    "                else:\n",
    "                    text = cardinal(x)\n",
    "                    x = text + ' dollars'\n",
    "                return x.lower()\n",
    "            elif len(x.split(' ')) == 2:\n",
    "                text = cardinal(x.split(' ')[0])\n",
    "                if x.split(' ')[1].lower() == 'million':\n",
    "                    x = text + ' million dollars'\n",
    "                elif x.split(' ')[1].lower() == 'billion':\n",
    "                    x = text + ' billion dollars'\n",
    "                return x.lower()\n",
    "                \n",
    "                \n",
    "                \n",
    "        if re.match('^US\\$', x):\n",
    "            x = x.replace('US$','')\n",
    "            if len(x.split(' ')) == 1:\n",
    "                if re.match('.*M|m$', x):\n",
    "                    x = x.replace('M', '')\n",
    "                    x = x.replace('m', '')\n",
    "                    text = cardinal(x)\n",
    "                    x = text + ' million dollars'\n",
    "                elif re.match('.*b|B$', x):\n",
    "                    x = x.replace('b', '')\n",
    "                    x = x.replace('B', '')\n",
    "                    text = cardinal(x)\n",
    "                    x = text + ' million dollars'\n",
    "                else:\n",
    "                    text = cardinal(x)\n",
    "                    x = text + ' dollars'\n",
    "                return x.lower()\n",
    "            elif len(x.split(' ')) == 2:\n",
    "                text = cardinal(x.split(' ')[0])\n",
    "                if x.split(' ')[1].lower() == 'million':\n",
    "                    x = text + ' million dollars'\n",
    "                elif x.split(' ')[1].lower() == 'billion':\n",
    "                    x = text + ' billion dollars'\n",
    "                return x.lower()\n",
    "\n",
    "        elif re.match('^£', x):\n",
    "            x = x.replace('£','')\n",
    "            if len(x.split(' ')) == 1:\n",
    "                if re.match('.*M|m$', x):\n",
    "                    x = x.replace('M', '')\n",
    "                    x = x.replace('m', '')\n",
    "                    text = cardinal(x)\n",
    "                    x = text + ' million pounds'\n",
    "                elif re.match('.*b|B$', x):\n",
    "                    x = x.replace('b', '')\n",
    "                    x = x.replace('B', '')\n",
    "                    text = cardinal(x)\n",
    "                    x = text + ' million pounds'\n",
    "                else:\n",
    "                    text = cardinal(x)\n",
    "                    x = text + ' pounds'\n",
    "                return x.lower()\n",
    "            elif len(x.split(' ')) == 2:\n",
    "                text = cardinal(x.split(' ')[0])\n",
    "                if x.split(' ')[1].lower() == 'million':\n",
    "                    x = text + ' million pounds'\n",
    "                elif x.split(' ')[1].lower() == 'billion':\n",
    "                    x = text + ' billion pounds'\n",
    "                return x.lower()\n",
    "            \n",
    "        elif re.match('^€', x):\n",
    "            x = x.replace('€','')\n",
    "            if len(x.split(' ')) == 1:\n",
    "                if re.match('.*M|m$', x):\n",
    "                    x = x.replace('M', '')\n",
    "                    x = x.replace('m', '')\n",
    "                    text = cardinal(x)\n",
    "                    x = text + ' million euros'\n",
    "                elif re.match('.*b|B$', x):\n",
    "                    x = x.replace('B', '')\n",
    "                    x = x.replace('b', '')\n",
    "                    text = cardinal(x)\n",
    "                    x = text + ' million euros'\n",
    "                else:\n",
    "                    text = cardinal(x)\n",
    "                    x = text + ' euros'\n",
    "                return x.lower()\n",
    "            elif len(x.split(' ')) == 2:\n",
    "                text = cardinal(x.split(' ')[0])\n",
    "                if x.split(' ')[1].lower() == 'million':\n",
    "                    x = text + ' million euros'\n",
    "                elif x.split(' ')[1].lower() == 'billion':\n",
    "                    x = text + ' billion euros'\n",
    "                return x.lower()  \n",
    "    except:    \n",
    "        return(x)"
   ]
  },
  {
   "cell_type": "markdown",
   "metadata": {},
   "source": [
    "# Conversion for Plain class"
   ]
  },
  {
   "cell_type": "code",
   "execution_count": 4,
   "metadata": {},
   "outputs": [
    {
     "ename": "MemoryError",
     "evalue": "",
     "output_type": "error",
     "traceback": [
      "\u001b[0;31m---------------------------------------------------------------------------\u001b[0m",
      "\u001b[0;31mMemoryError\u001b[0m                               Traceback (most recent call last)",
      "\u001b[0;32m<ipython-input-4-f4a91e1c0300>\u001b[0m in \u001b[0;36m<module>\u001b[0;34m()\u001b[0m\n\u001b[0;32m----> 1\u001b[0;31m \u001b[0mdata\u001b[0m \u001b[0;34m=\u001b[0m \u001b[0mpd\u001b[0m\u001b[0;34m.\u001b[0m\u001b[0mread_csv\u001b[0m\u001b[0;34m(\u001b[0m\u001b[0;34m'./en_train.csv'\u001b[0m\u001b[0;34m)\u001b[0m\u001b[0;34m\u001b[0m\u001b[0m\n\u001b[0m",
      "\u001b[0;32m/usr/local/lib/python3.5/dist-packages/pandas/io/parsers.py\u001b[0m in \u001b[0;36mparser_f\u001b[0;34m(filepath_or_buffer, sep, delimiter, header, names, index_col, usecols, squeeze, prefix, mangle_dupe_cols, dtype, engine, converters, true_values, false_values, skipinitialspace, skiprows, nrows, na_values, keep_default_na, na_filter, verbose, skip_blank_lines, parse_dates, infer_datetime_format, keep_date_col, date_parser, dayfirst, iterator, chunksize, compression, thousands, decimal, lineterminator, quotechar, quoting, escapechar, comment, encoding, dialect, tupleize_cols, error_bad_lines, warn_bad_lines, skipfooter, doublequote, delim_whitespace, low_memory, memory_map, float_precision)\u001b[0m\n\u001b[1;32m    676\u001b[0m                     skip_blank_lines=skip_blank_lines)\n\u001b[1;32m    677\u001b[0m \u001b[0;34m\u001b[0m\u001b[0m\n\u001b[0;32m--> 678\u001b[0;31m         \u001b[0;32mreturn\u001b[0m \u001b[0m_read\u001b[0m\u001b[0;34m(\u001b[0m\u001b[0mfilepath_or_buffer\u001b[0m\u001b[0;34m,\u001b[0m \u001b[0mkwds\u001b[0m\u001b[0;34m)\u001b[0m\u001b[0;34m\u001b[0m\u001b[0m\n\u001b[0m\u001b[1;32m    679\u001b[0m \u001b[0;34m\u001b[0m\u001b[0m\n\u001b[1;32m    680\u001b[0m     \u001b[0mparser_f\u001b[0m\u001b[0;34m.\u001b[0m\u001b[0m__name__\u001b[0m \u001b[0;34m=\u001b[0m \u001b[0mname\u001b[0m\u001b[0;34m\u001b[0m\u001b[0m\n",
      "\u001b[0;32m/usr/local/lib/python3.5/dist-packages/pandas/io/parsers.py\u001b[0m in \u001b[0;36m_read\u001b[0;34m(filepath_or_buffer, kwds)\u001b[0m\n\u001b[1;32m    444\u001b[0m \u001b[0;34m\u001b[0m\u001b[0m\n\u001b[1;32m    445\u001b[0m     \u001b[0;32mtry\u001b[0m\u001b[0;34m:\u001b[0m\u001b[0;34m\u001b[0m\u001b[0m\n\u001b[0;32m--> 446\u001b[0;31m         \u001b[0mdata\u001b[0m \u001b[0;34m=\u001b[0m \u001b[0mparser\u001b[0m\u001b[0;34m.\u001b[0m\u001b[0mread\u001b[0m\u001b[0;34m(\u001b[0m\u001b[0mnrows\u001b[0m\u001b[0;34m)\u001b[0m\u001b[0;34m\u001b[0m\u001b[0m\n\u001b[0m\u001b[1;32m    447\u001b[0m     \u001b[0;32mfinally\u001b[0m\u001b[0;34m:\u001b[0m\u001b[0;34m\u001b[0m\u001b[0m\n\u001b[1;32m    448\u001b[0m         \u001b[0mparser\u001b[0m\u001b[0;34m.\u001b[0m\u001b[0mclose\u001b[0m\u001b[0;34m(\u001b[0m\u001b[0;34m)\u001b[0m\u001b[0;34m\u001b[0m\u001b[0m\n",
      "\u001b[0;32m/usr/local/lib/python3.5/dist-packages/pandas/io/parsers.py\u001b[0m in \u001b[0;36mread\u001b[0;34m(self, nrows)\u001b[0m\n\u001b[1;32m   1034\u001b[0m                 \u001b[0;32mraise\u001b[0m \u001b[0mValueError\u001b[0m\u001b[0;34m(\u001b[0m\u001b[0;34m'skipfooter not supported for iteration'\u001b[0m\u001b[0;34m)\u001b[0m\u001b[0;34m\u001b[0m\u001b[0m\n\u001b[1;32m   1035\u001b[0m \u001b[0;34m\u001b[0m\u001b[0m\n\u001b[0;32m-> 1036\u001b[0;31m         \u001b[0mret\u001b[0m \u001b[0;34m=\u001b[0m \u001b[0mself\u001b[0m\u001b[0;34m.\u001b[0m\u001b[0m_engine\u001b[0m\u001b[0;34m.\u001b[0m\u001b[0mread\u001b[0m\u001b[0;34m(\u001b[0m\u001b[0mnrows\u001b[0m\u001b[0;34m)\u001b[0m\u001b[0;34m\u001b[0m\u001b[0m\n\u001b[0m\u001b[1;32m   1037\u001b[0m \u001b[0;34m\u001b[0m\u001b[0m\n\u001b[1;32m   1038\u001b[0m         \u001b[0;31m# May alter columns / col_dict\u001b[0m\u001b[0;34m\u001b[0m\u001b[0;34m\u001b[0m\u001b[0m\n",
      "\u001b[0;32m/usr/local/lib/python3.5/dist-packages/pandas/io/parsers.py\u001b[0m in \u001b[0;36mread\u001b[0;34m(self, nrows)\u001b[0m\n\u001b[1;32m   1846\u001b[0m     \u001b[0;32mdef\u001b[0m \u001b[0mread\u001b[0m\u001b[0;34m(\u001b[0m\u001b[0mself\u001b[0m\u001b[0;34m,\u001b[0m \u001b[0mnrows\u001b[0m\u001b[0;34m=\u001b[0m\u001b[0;32mNone\u001b[0m\u001b[0;34m)\u001b[0m\u001b[0;34m:\u001b[0m\u001b[0;34m\u001b[0m\u001b[0m\n\u001b[1;32m   1847\u001b[0m         \u001b[0;32mtry\u001b[0m\u001b[0;34m:\u001b[0m\u001b[0;34m\u001b[0m\u001b[0m\n\u001b[0;32m-> 1848\u001b[0;31m             \u001b[0mdata\u001b[0m \u001b[0;34m=\u001b[0m \u001b[0mself\u001b[0m\u001b[0;34m.\u001b[0m\u001b[0m_reader\u001b[0m\u001b[0;34m.\u001b[0m\u001b[0mread\u001b[0m\u001b[0;34m(\u001b[0m\u001b[0mnrows\u001b[0m\u001b[0;34m)\u001b[0m\u001b[0;34m\u001b[0m\u001b[0m\n\u001b[0m\u001b[1;32m   1849\u001b[0m         \u001b[0;32mexcept\u001b[0m \u001b[0mStopIteration\u001b[0m\u001b[0;34m:\u001b[0m\u001b[0;34m\u001b[0m\u001b[0m\n\u001b[1;32m   1850\u001b[0m             \u001b[0;32mif\u001b[0m \u001b[0mself\u001b[0m\u001b[0;34m.\u001b[0m\u001b[0m_first_chunk\u001b[0m\u001b[0;34m:\u001b[0m\u001b[0;34m\u001b[0m\u001b[0m\n",
      "\u001b[0;32mpandas/_libs/parsers.pyx\u001b[0m in \u001b[0;36mpandas._libs.parsers.TextReader.read\u001b[0;34m()\u001b[0m\n",
      "\u001b[0;32mpandas/_libs/parsers.pyx\u001b[0m in \u001b[0;36mpandas._libs.parsers.TextReader._read_low_memory\u001b[0;34m()\u001b[0m\n",
      "\u001b[0;32mpandas/_libs/parsers.pyx\u001b[0m in \u001b[0;36mpandas._libs.parsers._concatenate_chunks\u001b[0;34m()\u001b[0m\n",
      "\u001b[0;31mMemoryError\u001b[0m: "
     ]
    }
   ],
   "source": [
    "data = pd.read_csv('./en_train.csv')"
   ]
  },
  {
   "cell_type": "code",
   "execution_count": 182,
   "metadata": {},
   "outputs": [],
   "source": [
    "from tqdm import *"
   ]
  },
  {
   "cell_type": "code",
   "execution_count": 1,
   "metadata": {},
   "outputs": [
    {
     "ename": "NameError",
     "evalue": "name 'data' is not defined",
     "output_type": "error",
     "traceback": [
      "\u001b[0;31m---------------------------------------------------------------------------\u001b[0m",
      "\u001b[0;31mNameError\u001b[0m                                 Traceback (most recent call last)",
      "\u001b[0;32m<ipython-input-1-8642380abba1>\u001b[0m in \u001b[0;36m<module>\u001b[0;34m()\u001b[0m\n\u001b[1;32m      1\u001b[0m \u001b[0;31m#def plain_array():\u001b[0m\u001b[0;34m\u001b[0m\u001b[0;34m\u001b[0m\u001b[0m\n\u001b[0;32m----> 2\u001b[0;31m \u001b[0mln\u001b[0m \u001b[0;34m=\u001b[0m \u001b[0mlen\u001b[0m\u001b[0;34m(\u001b[0m\u001b[0mdata\u001b[0m\u001b[0;34m.\u001b[0m\u001b[0mloc\u001b[0m\u001b[0;34m[\u001b[0m\u001b[0mdata\u001b[0m\u001b[0;34m[\u001b[0m\u001b[0;34m'class'\u001b[0m\u001b[0;34m]\u001b[0m \u001b[0;34m==\u001b[0m \u001b[0;34m'PLAIN'\u001b[0m\u001b[0;34m]\u001b[0m\u001b[0;34m)\u001b[0m\u001b[0;34m\u001b[0m\u001b[0m\n\u001b[0m\u001b[1;32m      3\u001b[0m \u001b[0mdt\u001b[0m \u001b[0;34m=\u001b[0m \u001b[0mdata\u001b[0m\u001b[0;34m.\u001b[0m\u001b[0mloc\u001b[0m\u001b[0;34m[\u001b[0m\u001b[0mdata\u001b[0m\u001b[0;34m[\u001b[0m\u001b[0;34m'class'\u001b[0m\u001b[0;34m]\u001b[0m \u001b[0;34m==\u001b[0m \u001b[0;34m'PLAIN'\u001b[0m\u001b[0;34m]\u001b[0m\u001b[0;34m\u001b[0m\u001b[0m\n\u001b[1;32m      4\u001b[0m \u001b[0mbefore\u001b[0m \u001b[0;34m=\u001b[0m \u001b[0mnp\u001b[0m\u001b[0;34m.\u001b[0m\u001b[0marray\u001b[0m\u001b[0;34m(\u001b[0m\u001b[0mdt\u001b[0m\u001b[0;34m[\u001b[0m\u001b[0;34m'before'\u001b[0m\u001b[0;34m]\u001b[0m\u001b[0;34m)\u001b[0m\u001b[0;34m\u001b[0m\u001b[0m\n\u001b[1;32m      5\u001b[0m \u001b[0mafter\u001b[0m \u001b[0;34m=\u001b[0m \u001b[0mnp\u001b[0m\u001b[0;34m.\u001b[0m\u001b[0marray\u001b[0m\u001b[0;34m(\u001b[0m\u001b[0mdt\u001b[0m\u001b[0;34m[\u001b[0m\u001b[0;34m'after'\u001b[0m\u001b[0;34m]\u001b[0m\u001b[0;34m)\u001b[0m\u001b[0;34m\u001b[0m\u001b[0m\n",
      "\u001b[0;31mNameError\u001b[0m: name 'data' is not defined"
     ]
    }
   ],
   "source": [
    "#def plain_array():\n",
    "ln = len(data.loc[data['class'] == 'PLAIN'])\n",
    "dt = data.loc[data['class'] == 'PLAIN']\n",
    "before = np.array(dt['before'])\n",
    "after = np.array(dt['after'])\n",
    "\n",
    "different = {}\n",
    "\n",
    "for i in tqdm(range(before.size)):    \n",
    "    if(before[i] != after[i] and before[i] not in different):\n",
    "        different[before[i]] = after[i]\n",
    "\n",
    "    #return different"
   ]
  },
  {
   "cell_type": "code",
   "execution_count": 188,
   "metadata": {},
   "outputs": [],
   "source": [
    "#np.save(file='plain_file',arr=different)"
   ]
  },
  {
   "cell_type": "code",
   "execution_count": 190,
   "metadata": {},
   "outputs": [],
   "source": [
    "#different = np.load('./plain_file.npy')"
   ]
  },
  {
   "cell_type": "code",
   "execution_count": 184,
   "metadata": {},
   "outputs": [],
   "source": [
    "def plain(x):\n",
    "    try:\n",
    "        \n",
    "        if x in different:\n",
    "            return different[x]\n",
    "        else:\n",
    "            return x\n",
    "    except:\n",
    "        return(x)"
   ]
  },
  {
   "cell_type": "markdown",
   "metadata": {},
   "source": [
    "# Conversion for DATE class"
   ]
  },
  {
   "cell_type": "code",
   "execution_count": 191,
   "metadata": {},
   "outputs": [],
   "source": [
    "#dt = data.loc[data['class'] == 'MEASURE']\n",
    "#print(dt[:50])"
   ]
  },
  {
   "cell_type": "code",
   "execution_count": 192,
   "metadata": {},
   "outputs": [
    {
     "data": {
      "text/plain": [
       "\"\\nfrom string import digits\\nunq_measures = []\\n\\nfor i in dt[0]:\\n    print(i)\\n    s = dt['before'][i]    \\n    remove_digits = str.maketrans('', '', digits)\\n    res = (s.translate(remove_digits)).strip()\\n    res = re.sub(',', '', res, count = 10)\\n    #res = re.sub(r'[^\\\\w\\\\s\\\\%]', '', res, count = 10)\\n    #res = re.sub('/', '', res, count = 10)\\n    res = res.strip()\\n    res += ' ' + dt['after'][i]\\n    if(res not in unq_measures):\\n        unq_measures.append(res)\\n\""
      ]
     },
     "execution_count": 192,
     "metadata": {},
     "output_type": "execute_result"
    }
   ],
   "source": [
    "\"\"\"\n",
    "from string import digits\n",
    "unq_measures = []\n",
    "\n",
    "for i in dt[0]:\n",
    "    print(i)\n",
    "    s = dt['before'][i]    \n",
    "    remove_digits = str.maketrans('', '', digits)\n",
    "    res = (s.translate(remove_digits)).strip()\n",
    "    res = re.sub(',', '', res, count = 10)\n",
    "    #res = re.sub(r'[^\\w\\s\\%]', '', res, count = 10)\n",
    "    #res = re.sub('/', '', res, count = 10)\n",
    "    res = res.strip()\n",
    "    res += ' ' + dt['after'][i]\n",
    "    if(res not in unq_measures):\n",
    "        unq_measures.append(res)\n",
    "\"\"\""
   ]
  },
  {
   "cell_type": "code",
   "execution_count": 190,
   "metadata": {},
   "outputs": [],
   "source": [
    "def date(x):\n",
    "    result = \"\"\n",
    "    month = {'1' : 'january', '2' : 'february', '3':'march', '4' : 'april', '5' : 'may', '6' : 'june', '7' : 'july', '8' : 'august', '9' : 'september', '10' : 'october', '11' : 'november', '12' : 'december'}\n",
    "    if(len(x) == 4):\n",
    "        if(int(x) < 2000 or int(x) >= 2010):            \n",
    "            x = p.number_to_words(int(x), group = 2)\n",
    "        else:\n",
    "            x = p.number_to_words(int(x))\n",
    "    elif(re.search(r'(?:\\d{1,2} )?(?: Empty|Jan|Feb|Mar|Apr|May|Jun|Jul|Aug|Sep|Oct|Nov|Dec)[a-z]*[.]?[-]? (?:\\d{1,2}[a-z]*[,]? )?[-]?\\d{4}', x)):        \n",
    "        tuples = re.findall(r'((?:\\d{1,2} )?)((?: Empty|Jan|Feb|Mar|Apr|May|Jun|Jul|Aug|Sep|Oct|Nov|Dec)[a-z]*)[.]?[-]? ((?:\\d{1,2}[a-z]*[,]? )?)[-]?(\\d{4})', x)        \n",
    "        if(tuples[0][0] != ''):\n",
    "            date = tuples[0][0].strip()            \n",
    "            result += str('the ' + ordinal(date) + ' of ')        \n",
    "        if(tuples[0][1] != ''):\n",
    "            result += str(tuples[0][1].lower()) + ' '\n",
    "        if(tuples[0][2] != ''):\n",
    "            date = tuples[0][2].strip()\n",
    "            date = re.sub(',', '', date, count = 10)            \n",
    "            result += str(ordinal(date) + ' ')\n",
    "        if(tuples[0][3] != ''):            \n",
    "            if(int(tuples[0][3]) < 2000 or int(tuples[0][3]) >= 2010):            \n",
    "                result += str(p.number_to_words(int(tuples[0][3]), group = 2))\n",
    "            else:\n",
    "                result += str(p.number_to_words(int(tuples[0][3])))\n",
    "        x = result\n",
    "    elif(re.search(r'\\d{1,2}[/]\\d{1,2}[/]\\d{2,4}', x)):            \n",
    "        tuples = re.findall(r'(\\d{1,2})[/](\\d{1,2})[/](\\d{2,4})', x)\n",
    "        if(tuples[0][0] != ''):\n",
    "            result += month[tuples[0][0]] + ' '\n",
    "        if(tuples[0][1] != ''):\n",
    "            result += ordinal(tuples[0][1]) + ' '\n",
    "        if(tuples[0][2] != ''):\n",
    "            result += digit(tuples[0][2])   \n",
    "        x = result\n",
    "    elif(re.search(r'(?: Empty|Jan|Feb|Mar|Apr|May|Jun|Jul|Aug|Sep|Oct|Nov|Dec)[a-z]*[.]?[-]? (\\d{2})', x)):\n",
    "        tuples = re.findall(r'((?: Empty|Jan|Feb|Mar|Apr|May|Jun|Jul|Aug|Sep|Oct|Nov|Dec)[a-z]*[.]?[-]?) (\\d{2})', x)\n",
    "        print(tuples)\n",
    "        if(tuples[0][0] != ''):\n",
    "            result += str(tuples[0][0].lower()) + ' '\n",
    "        if(tuples[0][1] != ''):\n",
    "            date = tuples[0][1].strip()                        \n",
    "            result += str(ordinal(date))\n",
    "        x = result\n",
    "    elif(re.search(r'(?:\\d{1,2} )?(?: Empty|Jan|Feb|Mar|Apr|May|Jun|Jul|Aug|Sep|Oct|Nov|Dec)[a-z]*[.]?[-]?', x)):\n",
    "        print('Here')\n",
    "        tuples = re.findall(r'((?:\\d{1,2} )?)((?: Empty|Jan|Feb|Mar|Apr|May|Jun|Jul|Aug|Sep|Oct|Nov|Dec)[a-z]*)', x)\n",
    "        print(tuples)\n",
    "        if(tuples[0][0] != ''):\n",
    "            date = tuples[0][0].strip()\n",
    "            result += 'the '+ str(ordinal(date)) + ' of '\n",
    "        if(tuples[0][1] != ''):\n",
    "            result += str(tuples[0][1].lower())\n",
    "        x = result\n",
    "    elif(re.search(r'\\d{1,2}[-]\\d{1,2}[-]\\d{4}', x)):        \n",
    "        tuples = re.findall(r'(\\d{1,2})[-](\\d{1,2})[-](\\d{4})', x)        \n",
    "        if(tuples[0][0] != ''):\n",
    "            date = tuples[0][0].strip()\n",
    "            result += 'the '+ str(ordinal(date)) + ' of '\n",
    "        if(tuples[0][1] != ''):\n",
    "            result += month[str(int(tuples[0][1]))] + ' '\n",
    "        if(tuples[0][2] != ''):            \n",
    "            if(int(tuples[0][2]) < 2000 or int(tuples[0][2]) >= 2010):            \n",
    "                result += str(p.number_to_words(int(tuples[0][2]), group = 2))\n",
    "            else:\n",
    "                result += str(p.number_to_words(int(tuples[0][2])))\n",
    "        x = result\n",
    "    elif(re.search(r'\\d{4}[-]\\d{1,2}[-]\\d{1,2}', x)):        \n",
    "        tuples = re.findall(r'(\\d{4})[-](\\d{1,2})[-](\\d{1,2})', x)        \n",
    "        if(tuples[0][2] != ''):\n",
    "            date = tuples[0][2].strip()\n",
    "            result += 'the '+ str(ordinal(date)) + ' of '\n",
    "        if(tuples[0][1] != ''):\n",
    "            result += month[str(int(tuples[0][1]))] + ' '\n",
    "        if(tuples[0][0] != ''):            \n",
    "            if(int(tuples[0][0]) < 2000 or int(tuples[0][0]) >= 2010):            \n",
    "                result += str(p.number_to_words(int(tuples[0][0]), group = 2))\n",
    "            else:\n",
    "                result += str(p.number_to_words(int(tuples[0][0])))\n",
    "        x = result\n",
    "    x = x.replace('zero', 'o')    \n",
    "    x = re.sub('-', ' ', x, count=10)\n",
    "    x = re.sub(' and','',x, count = 10)\n",
    "    x = re.sub(',', '', x, count = 10)\n",
    "    return x"
   ]
  },
  {
   "cell_type": "markdown",
   "metadata": {},
   "source": [
    "# Conversion for Verbatim"
   ]
  },
  {
   "cell_type": "code",
   "execution_count": 199,
   "metadata": {},
   "outputs": [],
   "source": [
    "from tqdm import *"
   ]
  },
  {
   "cell_type": "code",
   "execution_count": 193,
   "metadata": {},
   "outputs": [
    {
     "name": "stderr",
     "output_type": "stream",
     "text": [
      "100%|███████████████████████████████████████████████████████████████████████| 78108/78108 [00:00<00:00, 1599526.88it/s]\n"
     ]
    },
    {
     "name": "stdout",
     "output_type": "stream",
     "text": [
      "1365\n"
     ]
    }
   ],
   "source": [
    "ln = len(data.loc[data['class'] == 'VERBATIM'])\n",
    "dt = data.loc[data['class'] == 'VERBATIM']\n",
    "before = np.array(dt['before'])\n",
    "after = np.array(dt['after'])\n",
    "\n",
    "verbatim_dict = {}\n",
    "\n",
    "for i in tqdm(range(before.size)):    \n",
    "    if(before[i] != after[i] and before[i] not in verbatim_dict):\n",
    "        verbatim_dict[before[i]] = after[i]\n",
    "print(len(verbatim_dict))"
   ]
  },
  {
   "cell_type": "code",
   "execution_count": 196,
   "metadata": {},
   "outputs": [],
   "source": [
    "def verbatim(x):\n",
    "    try:\n",
    "        if x in verbatim_dict:\n",
    "            return verbatim_dict[x]\n",
    "        else:\n",
    "            return x\n",
    "    except:\n",
    "        return(x)"
   ]
  },
  {
   "cell_type": "markdown",
   "metadata": {},
   "source": [
    "# Converter for Time"
   ]
  },
  {
   "cell_type": "code",
   "execution_count": 155,
   "metadata": {},
   "outputs": [],
   "source": [
    "def time(x):\n",
    "    result = ''\n",
    "    if re.match(r'\\d{1,2}[:]?[.]?(\\d{1,2})?[:]?[\\s]?(\\d{1,2})?[A-za-z.\\s]*',x):\n",
    "        tuples = re.findall(r'(\\d{1,2})[:]?[.]?(\\d{1,2})?[:]?[\\s]?([A-za-z.\\s]*)(\\d{1,2})?', x)\n",
    "        print(tuples)\n",
    "        if(tuples[0][0] != ''):\n",
    "            result += cardinal(tuples[0][0]) + ' '\n",
    "            if(tuples[0][3] != ''):\n",
    "                result += ' ' + 'hours '\n",
    "        if(tuples[0][1] != ''):            \n",
    "            if(tuples[0][1] == '00'):\n",
    "                result += ' ' + \"o' clock\"\n",
    "            else:\n",
    "                result += cardinal(tuples[0][1])\n",
    "            if(tuples[0][3] != ''):\n",
    "                result += ' ' + 'minutes '\n",
    "        if(tuples[0][2] != ''):\n",
    "            result += ' ' + letters(tuples[0][2])\n",
    "        if(tuples[0][3] != ''):\n",
    "            result += ' ' + cardinal(tuples[0][3]) + ' seconds'\n",
    "        \n",
    "    print(result)"
   ]
  }
 ],
 "metadata": {
  "kernelspec": {
   "display_name": "Python 3",
   "language": "python",
   "name": "python3"
  },
  "language_info": {
   "codemirror_mode": {
    "name": "ipython",
    "version": 3
   },
   "file_extension": ".py",
   "mimetype": "text/x-python",
   "name": "python",
   "nbconvert_exporter": "python",
   "pygments_lexer": "ipython3",
   "version": "3.5.2"
  }
 },
 "nbformat": 4,
 "nbformat_minor": 2
}
