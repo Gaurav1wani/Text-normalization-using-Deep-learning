{
 "cells": [
  {
   "cell_type": "markdown",
   "metadata": {},
   "source": [
    "# Import required libraries"
   ]
  },
  {
   "cell_type": "code",
   "execution_count": 91,
   "metadata": {},
   "outputs": [],
   "source": [
    "from numpy import array\n",
    "from numpy import asarray\n",
    "from numpy import zeros\n",
    "from keras.preprocessing.text import Tokenizer\n",
    "from keras.preprocessing.sequence import pad_sequences\n",
    "from keras.models import Sequential\n",
    "from keras.layers import Dense, Flatten, Embedding, LSTM, GRU\n",
    "import numpy as np\n",
    "import pandas as pd\n",
    "from sklearn.preprocessing import LabelEncoder\n",
    "from keras.utils import np_utils\n",
    "import time\n",
    "from tqdm import *\n",
    "import tensorflow as tf\n",
    "import warnings\n",
    "warnings.filterwarnings('ignore')\n",
    "import inflect\n",
    "import re\n",
    "from RegEx_converter_v3 import cardinal, digit, letters, ordinal, address, telephone, electronic, fraction, money, date, plain, verbatim, time\n",
    "import IPython.display as ipd\n",
    "from keras.models import load_model"
   ]
  },
  {
   "cell_type": "markdown",
   "metadata": {},
   "source": [
    "# Loading data from training file"
   ]
  },
  {
   "cell_type": "code",
   "execution_count": 92,
   "metadata": {},
   "outputs": [],
   "source": [
    "data = pd.read_csv('./en_train.csv', nrows= 1000000)\n",
    "check_results = data\n",
    "data = data[['class','before', 'after']]\n",
    "# Loading data in input and output variable from before and class columns\n",
    "x_train = data['before']\n",
    "y_train = data['class']"
   ]
  },
  {
   "cell_type": "markdown",
   "metadata": {},
   "source": [
    "# Converting labels to One hot encoding"
   ]
  },
  {
   "cell_type": "code",
   "execution_count": 93,
   "metadata": {},
   "outputs": [],
   "source": [
    "# Import values label encoder and fit output data\n",
    "encoder = LabelEncoder()\n",
    "encoder.fit(y_train)\n",
    "# encode class values as integers\n",
    "encoded_Y = encoder.transform(y_train)\n",
    "# convert integers to dummy variables (i.e. one hot encoded)\n",
    "labels_new = np_utils.to_categorical(encoded_Y)"
   ]
  },
  {
   "cell_type": "markdown",
   "metadata": {},
   "source": [
    "# Converting values from training data to strings"
   ]
  },
  {
   "cell_type": "code",
   "execution_count": 94,
   "metadata": {},
   "outputs": [
    {
     "name": "stderr",
     "output_type": "stream",
     "text": [
      "100%|██████████| 1000000/1000000 [00:23<00:00, 42169.02it/s]\n"
     ]
    }
   ],
   "source": [
    "n = len(x_train)\n",
    "inp_data = [0]*n\n",
    "for i in tqdm(range(n)):    \n",
    "    inp_data[i] = [(str(x_train[i]))]\n",
    "docs = inp_data"
   ]
  },
  {
   "cell_type": "markdown",
   "metadata": {},
   "source": [
    "# Tokenization and padding"
   ]
  },
  {
   "cell_type": "code",
   "execution_count": 95,
   "metadata": {},
   "outputs": [],
   "source": [
    "# prepare tokenizer\n",
    "t = Tokenizer()\n",
    "t.fit_on_texts(docs)\n",
    "vocab_size = len(t.word_index) + 1\n",
    "# integer encode the documents\n",
    "encoded_docs = t.texts_to_sequences(docs)\n",
    "\n",
    "# pad documents to a max length of 2 words\n",
    "max_length = 2\n",
    "padded_docs = pad_sequences(encoded_docs, maxlen=max_length, padding='post')"
   ]
  },
  {
   "cell_type": "markdown",
   "metadata": {},
   "source": [
    "# User input for sentence id"
   ]
  },
  {
   "cell_type": "code",
   "execution_count": 96,
   "metadata": {},
   "outputs": [
    {
     "name": "stdout",
     "output_type": "stream",
     "text": [
      "Please Enter one of the following id's: \n",
      " 1.1317 \n",
      " 2.78379 \n",
      " 3.75885 \n",
      " 4.28762 \n",
      " 5.6038 \n",
      " 6.11748 \n",
      " 7.9873 \n",
      " 8.10501 \n",
      " 9.11109 \n",
      " 10.3434\n",
      "Enter sentense id:1317\n",
      "['ISBN', '0-89879-823', '-', 'X', '.', 'James', ',', 'George', '(', '24 August 1994', ')', '.']\n"
     ]
    }
   ],
   "source": [
    "print(\"Please Enter one of the following id's: \\n 1.1317 \\n 2.78379 \\n 3.75885 \\n 4.28762 \\n 5.6038 \\n 6.11748 \\n 7.9873 \\n 8.10501 \\n 9.11109 \\n 10.3434\")\n",
    "\n",
    "sent_id = input(\"Enter sentense id:\")\n",
    "words = check_results.loc[check_results['sentence_id'] == int(sent_id)]\n",
    "word = []\n",
    "for i in words['before']:\n",
    "    word.append(i)\n",
    "print(word)"
   ]
  },
  {
   "cell_type": "markdown",
   "metadata": {},
   "source": [
    "# Inflect engine converter"
   ]
  },
  {
   "cell_type": "code",
   "execution_count": 97,
   "metadata": {},
   "outputs": [
    {
     "name": "stdout",
     "output_type": "stream",
     "text": [
      "['ISBN', 'eighty-nine million, eight hundred and seventy-nine thousand, eight hundred and twenty-three', '-', 'X', '.', 'James', ',', 'George', '(', 'two hundred and forty-one thousand, nine hundred and ninety-four', ')', '.']\n"
     ]
    }
   ],
   "source": [
    "p = inflect.engine()\n",
    "inflect_result = []\n",
    "for i in word:\n",
    "    if(re.match('.*[0-9]+[a-zA-z]*', i)):        \n",
    "        inflect_result.append(p.number_to_words(re.sub(\"[^0-9]\", \"\", i)))\n",
    "    else:\n",
    "        inflect_result.append(i)\n",
    "print(inflect_result)"
   ]
  },
  {
   "cell_type": "code",
   "execution_count": 98,
   "metadata": {},
   "outputs": [],
   "source": [
    "def switch_code(arg):\n",
    "    switcher_engine = {\n",
    "        78379 : \"./Audio_files/output_date_engine.mp3\",\n",
    "        75885 : \"./Audio_files/output_money_engine.mp3\",\n",
    "        28762 : \"./Audio_files/output_fraction_engine.mp3\",\n",
    "        6038 : \"./Audio_files/output_time_engine.mp3\",\n",
    "        1317 : \"./Audio_files/output_telephone_engine.mp3\",\n",
    "        11748: \"./Audio_files/output_combined_LETTERS_engine.mp3\",\n",
    "        3434: \"./Audio_files/output_combined_Money_engine.mp3\",\n",
    "        11109: \"./Audio_files/output_combined_DATE_engine.mp3\",\n",
    "        9873: \"./Audio_files/output_cardinal_engine.mp3\",\n",
    "        10501: \"./Audio_files/output_ordinal_engine.mp3\"        \n",
    "    } \n",
    "    \n",
    "    #print(switcher.get(arg))\n",
    "    return switcher_engine.get(arg)"
   ]
  },
  {
   "cell_type": "code",
   "execution_count": 99,
   "metadata": {},
   "outputs": [
    {
     "name": "stdout",
     "output_type": "stream",
     "text": [
      "\n",
      " Input sentence: ISBN 0-89879-823 - X . James , George ( 24 August 1994 ) .\n",
      "\n",
      "\n",
      " Ouput of inflect engine:  ISBN eighty-nine million, eight hundred and seventy-nine thousand, eight hundred and twenty-three - X . James , George ( two hundred and forty-one thousand, nine hundred and ninety-four ) .\n",
      "\n",
      "\n",
      " Running Audio Generated for inflect Engine:\n"
     ]
    },
    {
     "data": {
      "text/html": [
       "\n",
       "                <audio controls=\"controls\" >\n",
       "                    <source src=\"data:audio/mpeg;base64,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\" type=\"audio/mpeg\" />\n",
       "                    Your browser does not support the audio element.\n",
       "                </audio>\n",
       "              "
      ],
      "text/plain": [
       "<IPython.lib.display.Audio object>"
      ]
     },
     "execution_count": 99,
     "metadata": {},
     "output_type": "execute_result"
    }
   ],
   "source": [
    "word1 = ' '.join(word)\n",
    "print(\"\\n Input sentence:\", word1)\n",
    "\n",
    "inflect_result1 = ' '.join(inflect_result)\n",
    "print(\"\\n\\n Ouput of inflect engine: \", inflect_result1)\n",
    "print(\"\\n\\n Running Audio Generated for inflect Engine:\")\n",
    "ipd.Audio(switch_code(int(sent_id)))"
   ]
  },
  {
   "cell_type": "markdown",
   "metadata": {},
   "source": [
    "# Processing sentense and predicting class of each text"
   ]
  },
  {
   "cell_type": "code",
   "execution_count": 100,
   "metadata": {},
   "outputs": [],
   "source": [
    "# Returns a compiled model identical to the previous one\n",
    "model = load_model('model_LSTM_embeddings.h5')"
   ]
  },
  {
   "cell_type": "code",
   "execution_count": 102,
   "metadata": {},
   "outputs": [
    {
     "name": "stdout",
     "output_type": "stream",
     "text": [
      "['ISBN', '0-89879-823', '-', 'X', '.', 'James', ',', 'George', '(', '24 August 1994', ')', '.']\n",
      "['LETTERS', 'TELEPHONE', 'VERBATIM', 'PLAIN', 'PUNCT', 'PLAIN', 'PUNCT', 'PLAIN', 'PUNCT', 'DATE', 'PUNCT', 'PUNCT']\n"
     ]
    }
   ],
   "source": [
    "list_of_ids = words['before'].index\n",
    "start_index = list_of_ids[0]\n",
    "end_index = start_index + len(list_of_ids)\n",
    "testing_data = padded_docs[0:len(x_train)]\n",
    "result = model.predict(testing_data[start_index:end_index])\n",
    "print(word)\n",
    "print(list(encoder.inverse_transform(np.argmax(result, axis=1))))\n",
    "classes = list(encoder.inverse_transform(np.argmax(result, axis=1)))"
   ]
  },
  {
   "cell_type": "markdown",
   "metadata": {},
   "source": [
    "# Call regular expression file for corresponding classes"
   ]
  },
  {
   "cell_type": "code",
   "execution_count": 103,
   "metadata": {},
   "outputs": [
    {
     "name": "stdout",
     "output_type": "stream",
     "text": [
      "i s b n o sil eight nine eight seven nine sil eight two three - X . James , George ( the twenty fourth of august nineteen ninety four ) .\n"
     ]
    }
   ],
   "source": [
    "output = []\n",
    "\n",
    "for i in range(len(classes)):\n",
    "    if(classes[i] == \"CARDINAL\"):\n",
    "        output.append(cardinal(word[i]))\n",
    "    elif(classes[i] == \"DIGIT\"):\n",
    "        output.append(digit(word[i]))\n",
    "    elif(classes[i] == \"LETTERS\"):\n",
    "        output.append(letters(word[i]))\n",
    "    elif(classes[i] == \"ORDINAL\"):\n",
    "        output.append(ordinal(word[i]))\n",
    "    elif(classes[i] == 'ADDRESS'):\n",
    "        output.append(address(word[i]))\n",
    "    elif(classes[i] == 'TELEPHONE'):\n",
    "        output.append(telephone(word[i]))\n",
    "    elif(classes[i] == 'ELECTRONIC'):\n",
    "        output.append(electronic(word[i]))\n",
    "    elif(classes[i] == 'FRACTION'):\n",
    "        output.append(fraction(word[i]))\n",
    "    elif(classes[i] == 'MONEY'):\n",
    "        output.append(money(word[i])) \n",
    "    elif(classes[i] == 'PLAIN'):\n",
    "        output.append(plain(word[i]))\n",
    "    elif(classes[i] == 'DATE'):\n",
    "        output.append(date(word[i]))\n",
    "    elif(classes[i] == 'VERBATIM'):\n",
    "        output.append(verbatim(word[i]))\n",
    "    elif(classes[i] == 'TIME'):\n",
    "        output.append(time(word[i]))    \n",
    "    else:\n",
    "        output.append(word[i])  \n",
    "        \n",
    "result = ' '.join(output)\n",
    "print(str(result))"
   ]
  },
  {
   "cell_type": "code",
   "execution_count": 106,
   "metadata": {},
   "outputs": [],
   "source": [
    "def switch_lstm(arg):\n",
    "    switcher_lstm = {\n",
    "        78379 : \"./Audio_files/output_date_lstm.mp3\",\n",
    "        75885 : \"./Audio_files/output_money_lstm.mp3\",\n",
    "        28762 : \"./Audio_files/output_fraction_lst.mp3\",\n",
    "        6038 : \"./Audio_files/output_time_lstm.mp3\",\n",
    "        1317 : \"./Audio_files/output_telephone_lstm.mp3\",\n",
    "        11748: \"./Audio_files/output_combined_LETTERS_lstm.mp3\",\n",
    "        3434: \"./Audio_files/output_combined_Money_lstm.mp3\",\n",
    "        11109 : \"./Audio_files/output_combined_DATE_lstm.mp3\",\n",
    "        9873: \"./Audio_files/output_cardinal_lstm.mp3\",\n",
    "        10501: \"./Audio_files/output_ordinal_lstm.mp3\"        \n",
    "    }\n",
    "    #print(switcher.get(arg))\n",
    "    return switcher_lstm.get(arg)"
   ]
  },
  {
   "cell_type": "markdown",
   "metadata": {},
   "source": [
    "# Play audio file in Jupyter notebook"
   ]
  },
  {
   "cell_type": "code",
   "execution_count": 107,
   "metadata": {},
   "outputs": [
    {
     "name": "stdout",
     "output_type": "stream",
     "text": [
      "\n",
      " Ouput of LSTM:  i s b n o sil eight nine eight seven nine sil eight two three - X . James , George ( the twenty fourth of august nineteen ninety four ) .\n",
      "\n",
      "\n",
      " Running Audio Generated for LSTM:\n"
     ]
    },
    {
     "data": {
      "text/html": [
       "\n",
       "                <audio controls=\"controls\" >\n",
       "                    <source src=\"data:audio/mpeg;base64,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\" type=\"audio/mpeg\" />\n",
       "                    Your browser does not support the audio element.\n",
       "                </audio>\n",
       "              "
      ],
      "text/plain": [
       "<IPython.lib.display.Audio object>"
      ]
     },
     "execution_count": 107,
     "metadata": {},
     "output_type": "execute_result"
    }
   ],
   "source": [
    "print(\"\\n Ouput of LSTM: \", result)\n",
    "print(\"\\n\\n Running Audio Generated for LSTM:\")\n",
    "ipd.Audio(switch_lstm(int(sent_id)))"
   ]
  },
  {
   "cell_type": "markdown",
   "metadata": {},
   "source": [
    "# Loading data from Glove in-built dictionary"
   ]
  },
  {
   "cell_type": "code",
   "execution_count": 48,
   "metadata": {},
   "outputs": [
    {
     "name": "stdout",
     "output_type": "stream",
     "text": [
      "Loaded 400000 word vectors.\n"
     ]
    }
   ],
   "source": [
    "# load the whole embedding into memory\n",
    "embeddings_index = dict()\n",
    "f = open('./glove.6B/glove.6B.100d.txt')\n",
    "for line in f:\n",
    "\tvalues = line.split()\n",
    "\tword = values[0]\n",
    "\tcoefs = asarray(values[1:], dtype='float32')\n",
    "\tembeddings_index[word] = coefs\n",
    "f.close()\n",
    "print('Loaded %s word vectors.' % len(embeddings_index))"
   ]
  },
  {
   "cell_type": "markdown",
   "metadata": {},
   "source": [
    "# Load vector for each word as embedding matrix"
   ]
  },
  {
   "cell_type": "code",
   "execution_count": 49,
   "metadata": {},
   "outputs": [],
   "source": [
    "# create a weight matrix for words in training docs\n",
    "count = 0\n",
    "x_data = []\n",
    "# Vectors are of size of 100\n",
    "x_row = np.ones(100, dtype= float) * 0\n",
    "embedding_matrix = zeros((vocab_size, 100))\n",
    "wd = []\n",
    "\n",
    "for word, i in t.word_index.items():\n",
    "    # fetch the vector based on word given in get fucntion\n",
    "    embedding_vector = embeddings_index.get(word)\n",
    "    # If vector for given word exists then append it in embedding matrix\n",
    "    if embedding_vector is not None:\n",
    "        # Creating a list to track words that have embedding vectors\n",
    "        wd.append(word)\n",
    "        embedding_matrix[i] = embedding_vector\n",
    "    else:\n",
    "    # Create a list of words which don't have embeeding vectors\n",
    "        wd.append(word)\n",
    "        for xi, j in (zip(list(str(word)), np.arange(100))):\n",
    "            x_row[j] = ord(xi)\n",
    "        embedding_matrix[i] = x_row\n",
    "        count += 1"
   ]
  },
  {
   "cell_type": "code",
   "execution_count": 243,
   "metadata": {},
   "outputs": [
    {
     "name": "stdout",
     "output_type": "stream",
     "text": [
      "97713\n"
     ]
    }
   ],
   "source": [
    "# Count non-existing vectors\n",
    "print(len(embedding_matrix)) # for 34,888 words it could not find corresponding vectors"
   ]
  },
  {
   "cell_type": "code",
   "execution_count": 62,
   "metadata": {},
   "outputs": [
    {
     "data": {
      "text/plain": [
       "array([-1.89700007e-01,  5.00239991e-02,  1.90840006e-01, -4.91839983e-02,\n",
       "       -8.97369981e-02,  2.10060000e-01, -5.49520016e-01,  9.83769968e-02,\n",
       "       -2.01350003e-01,  3.42409998e-01, -9.26769972e-02,  1.60999998e-01,\n",
       "       -1.32679999e-01, -2.81599998e-01,  1.87370002e-01, -4.29589987e-01,\n",
       "        9.60389972e-01,  1.39719993e-01, -1.07809997e+00,  4.05180007e-01,\n",
       "        5.05389988e-01, -5.50639987e-01,  4.84400004e-01,  3.80439997e-01,\n",
       "       -2.90549989e-03, -3.49420011e-01, -9.96960029e-02, -7.83680022e-01,\n",
       "        1.03629994e+00, -2.31399998e-01, -4.71210003e-01,  5.71259975e-01,\n",
       "       -2.14540005e-01,  3.59580010e-01, -4.83190000e-01,  1.08749998e+00,\n",
       "        2.85239995e-01,  1.24470003e-01, -3.92480008e-02, -7.67320022e-02,\n",
       "       -7.63429999e-01, -3.24090004e-01, -5.74899971e-01, -1.08930004e+00,\n",
       "       -4.18110013e-01,  4.51200008e-01,  1.21119998e-01, -5.13670027e-01,\n",
       "       -1.33489996e-01, -1.13779998e+00, -2.87680000e-01,  1.67740002e-01,\n",
       "        5.58040023e-01,  1.53869998e+00,  1.88590009e-02, -2.97210002e+00,\n",
       "       -2.42160007e-01, -9.24950004e-01,  2.19919991e+00,  2.82339990e-01,\n",
       "       -3.47799987e-01,  5.16210020e-01, -4.33869988e-01,  3.68519992e-01,\n",
       "        7.45729983e-01,  7.21020028e-02,  2.79309988e-01,  9.25689995e-01,\n",
       "       -5.03359996e-02, -8.58560026e-01, -1.35800004e-01, -9.25509989e-01,\n",
       "       -3.39910001e-01, -1.03939998e+00, -6.72030002e-02, -2.13789999e-01,\n",
       "       -4.76900011e-01,  2.13770002e-01, -8.40080023e-01,  5.25359996e-02,\n",
       "        5.92980027e-01,  2.96039999e-01, -6.76440001e-01,  1.39160007e-01,\n",
       "       -1.55040002e+00, -2.07650006e-01,  7.22199976e-01,  5.20560026e-01,\n",
       "       -7.62209967e-02, -1.51940003e-01, -1.31339997e-01,  5.86169995e-02,\n",
       "       -3.18690002e-01, -6.14189982e-01, -6.23929977e-01, -4.15479988e-01,\n",
       "       -3.81750017e-02, -3.98039997e-01,  4.76469994e-01, -1.59830004e-01])"
      ]
     },
     "execution_count": 62,
     "metadata": {},
     "output_type": "execute_result"
    }
   ],
   "source": [
    "embedding_matrix[11]"
   ]
  },
  {
   "cell_type": "markdown",
   "metadata": {},
   "source": [
    "# Create a sequential model for embedding"
   ]
  },
  {
   "cell_type": "code",
   "execution_count": 20,
   "metadata": {},
   "outputs": [],
   "source": [
    "# define model\n",
    "model = Sequential()\n",
    "e = Embedding(vocab_size, 100, weights=[embedding_matrix], input_length=2, trainable=True)\n",
    "model.add(e)\n",
    "#model.add(LSTM(64, dropout=0.2))\n",
    "#model.add(LSTM(32, dropout = 0.2))\n",
    "model.add(GRU(64, dropout=0.2))\n",
    "#model.add(GRU(32, dropout = 0.2))\n",
    "model.add(Dense(16, activation='softmax'))"
   ]
  },
  {
   "cell_type": "code",
   "execution_count": 21,
   "metadata": {},
   "outputs": [],
   "source": [
    "from keras.callbacks import EarlyStopping\n",
    "earlystop = EarlyStopping(monitor='val_acc', min_delta=0.001, patience=5,verbose=1, mode='auto')\n",
    "callbacks_list = [earlystop]"
   ]
  },
  {
   "cell_type": "markdown",
   "metadata": {},
   "source": [
    "# Training Model and predicting accuracy"
   ]
  },
  {
   "cell_type": "code",
   "execution_count": 24,
   "metadata": {},
   "outputs": [
    {
     "name": "stdout",
     "output_type": "stream",
     "text": [
      "_________________________________________________________________\n",
      "Layer (type)                 Output Shape              Param #   \n",
      "=================================================================\n",
      "embedding_3 (Embedding)      (None, 2, 100)            9771300   \n",
      "_________________________________________________________________\n",
      "gru_1 (GRU)                  (None, 64)                31680     \n",
      "_________________________________________________________________\n",
      "dense_3 (Dense)              (None, 16)                1040      \n",
      "=================================================================\n",
      "Total params: 9,804,020\n",
      "Trainable params: 9,804,020\n",
      "Non-trainable params: 0\n",
      "_________________________________________________________________\n",
      "None\n",
      "Train on 720000 samples, validate on 180000 samples\n",
      "Epoch 1/50\n",
      "720000/720000 [==============================] - 1251s 2ms/step - loss: 0.0612 - acc: 0.9796 - val_loss: 0.0641 - val_acc: 0.9813\n",
      "Epoch 2/50\n",
      "720000/720000 [==============================] - 1248s 2ms/step - loss: 0.0600 - acc: 0.9802 - val_loss: 0.0646 - val_acc: 0.9805\n",
      "Epoch 3/50\n",
      "720000/720000 [==============================] - 1267s 2ms/step - loss: 0.0598 - acc: 0.9799 - val_loss: 0.0653 - val_acc: 0.9804\n",
      "Epoch 4/50\n",
      "720000/720000 [==============================] - 1257s 2ms/step - loss: 0.0598 - acc: 0.9799 - val_loss: 0.0717 - val_acc: 0.9784\n",
      "Epoch 5/50\n",
      "720000/720000 [==============================] - 1251s 2ms/step - loss: 0.0609 - acc: 0.9795 - val_loss: 0.0719 - val_acc: 0.9766\n",
      "Epoch 6/50\n",
      "720000/720000 [==============================] - 1256s 2ms/step - loss: 0.0598 - acc: 0.9799 - val_loss: 0.0693 - val_acc: 0.9778\n",
      "Epoch 00006: early stopping\n"
     ]
    },
    {
     "data": {
      "text/plain": [
       "<keras.callbacks.History at 0x7f03517e6a58>"
      ]
     },
     "execution_count": 24,
     "metadata": {},
     "output_type": "execute_result"
    }
   ],
   "source": [
    "# compile the model\n",
    "model.compile(optimizer='adam', loss='categorical_crossentropy', metrics=['acc'])\n",
    "\n",
    "# summarize the model\n",
    "print(model.summary())\n",
    "training_data = padded_docs[0:900000]\n",
    "training_labels = labels_new[0:900000]\n",
    "\n",
    "#training_data = training_data.reshape(-1, 1, 100)\n",
    "#training_labels = training_labels.reshape(-1, 1, 16)\n",
    "# fit the model Type 1\n",
    "model.fit(training_data, training_labels, batch_size=128, verbose=1,epochs = 50, callbacks=callbacks_list, validation_split = 0.2)\n"
   ]
  },
  {
   "cell_type": "markdown",
   "metadata": {},
   "source": [
    "# Testing model accuracy"
   ]
  },
  {
   "cell_type": "code",
   "execution_count": 25,
   "metadata": {},
   "outputs": [
    {
     "name": "stdout",
     "output_type": "stream",
     "text": [
      "100000/100000 [==============================] - 4s 39us/step\n",
      "Accuracy: 97.812000\n"
     ]
    }
   ],
   "source": [
    "# evaluate the model\n",
    "testing_data = padded_docs[900000:len(x_train)]\n",
    "testing_labels = labels_new[900000:len(y_train)]\n",
    "\n",
    "loss, accuracy = model.evaluate(testing_data, testing_labels, verbose=1)\n",
    "print('Accuracy: %f' % (accuracy*100))"
   ]
  },
  {
   "cell_type": "markdown",
   "metadata": {},
   "source": [
    "# Training using LSTM as first layer layers"
   ]
  },
  {
   "cell_type": "code",
   "execution_count": 27,
   "metadata": {},
   "outputs": [
    {
     "name": "stdout",
     "output_type": "stream",
     "text": [
      "Train on 900000 samples, validate on 100000 samples\n",
      "Epoch 1/10\n",
      "900000/900000 [==============================] - 146s 162us/step - loss: 0.0127 - acc: 0.8820 - val_loss: 0.0100 - val_acc: 0.8975\n",
      "Epoch 2/10\n",
      "900000/900000 [==============================] - 139s 154us/step - loss: 0.0095 - acc: 0.9173 - val_loss: 0.0089 - val_acc: 0.9232\n",
      "Epoch 3/10\n",
      "900000/900000 [==============================] - 141s 157us/step - loss: 0.0104 - acc: 0.9087 - val_loss: 0.0120 - val_acc: 0.8905\n",
      "Epoch 4/10\n",
      "900000/900000 [==============================] - 138s 154us/step - loss: 0.0118 - acc: 0.8883 - val_loss: 0.0112 - val_acc: 0.9021\n",
      "Epoch 5/10\n",
      "900000/900000 [==============================] - 140s 155us/step - loss: 0.0120 - acc: 0.8961 - val_loss: 0.0126 - val_acc: 0.8905\n",
      "Epoch 6/10\n",
      "900000/900000 [==============================] - 136s 151us/step - loss: 0.0120 - acc: 0.8926 - val_loss: 0.0112 - val_acc: 0.9021\n",
      "Epoch 7/10\n",
      "900000/900000 [==============================] - 134s 148us/step - loss: 0.0116 - acc: 0.8890 - val_loss: 0.0113 - val_acc: 0.8904\n",
      "Epoch 00007: early stopping\n"
     ]
    },
    {
     "data": {
      "text/plain": [
       "<keras.callbacks.History at 0x7f0349b02048>"
      ]
     },
     "execution_count": 27,
     "metadata": {},
     "output_type": "execute_result"
    }
   ],
   "source": [
    "from keras.callbacks import EarlyStopping\n",
    "\n",
    "training_data = padded_docs[0:900000]\n",
    "training_labels = labels_new[0:900000]\n",
    "\n",
    "training_data = np.reshape(training_data, (900000, 1, 2))\n",
    "\n",
    "testing_data = padded_docs[900000:len(x_train)]\n",
    "testing_labels = labels_new[900000:len(y_train)]\n",
    "\n",
    "testing_data = np.reshape(testing_data, (100000, 1, 2))\n",
    "\n",
    "model_new = Sequential()\n",
    "model_new.add(LSTM(100, dropout=0.0, recurrent_dropout=0.0,input_shape=(None, 2)))\n",
    "e = Embedding(vocab_size, 100, weights=[embedding_matrix], input_length=2, trainable=True)\n",
    "model.add(e)\n",
    "model_new.add(Dense(32))\n",
    "model_new.add(Dense(16, activation='softmax'))\n",
    "model_new.compile(loss='mean_squared_error', optimizer='adam', metrics=['acc'])\n",
    "monitor = EarlyStopping(monitor='val_acc', min_delta=1e-3, patience=5, verbose=1, mode='auto')\n",
    "model_new.fit(training_data,training_labels,validation_data=(testing_data,testing_labels),callbacks=[monitor],verbose=1,epochs=10)"
   ]
  },
  {
   "cell_type": "markdown",
   "metadata": {},
   "source": [
    "# Testing model accuracy"
   ]
  },
  {
   "cell_type": "code",
   "execution_count": 28,
   "metadata": {},
   "outputs": [
    {
     "name": "stdout",
     "output_type": "stream",
     "text": [
      "100000/100000 [==============================] - 3s 28us/step\n",
      "Accuracy: 89.036000\n"
     ]
    }
   ],
   "source": [
    "loss, accuracy = model_new.evaluate(testing_data, testing_labels, verbose=1)\n",
    "print('Accuracy: %f' % (accuracy*100))"
   ]
  },
  {
   "cell_type": "markdown",
   "metadata": {},
   "source": [
    "# Save Model"
   ]
  },
  {
   "cell_type": "code",
   "execution_count": 83,
   "metadata": {},
   "outputs": [],
   "source": [
    "# Creates a HDF5 file 'my_model.h5'\n",
    "model.save('model_LSTM_embeddings.h5')"
   ]
  },
  {
   "cell_type": "code",
   "execution_count": 11,
   "metadata": {},
   "outputs": [
    {
     "name": "stdout",
     "output_type": "stream",
     "text": [
      "_________________________________________________________________\n",
      "Layer (type)                 Output Shape              Param #   \n",
      "=================================================================\n",
      "embedding_1 (Embedding)      (None, 2, 100)            9771300   \n",
      "_________________________________________________________________\n",
      "lstm_1 (LSTM)                (None, 100)               80400     \n",
      "_________________________________________________________________\n",
      "dense_1 (Dense)              (None, 16)                1616      \n",
      "=================================================================\n",
      "Total params: 9,853,316\n",
      "Trainable params: 9,853,316\n",
      "Non-trainable params: 0\n",
      "_________________________________________________________________\n",
      "None\n"
     ]
    }
   ],
   "source": [
    "from keras.models import load_model\n",
    "# Returns a compiled model identical to the previous one\n",
    "model = load_model('model_LSTM_embeddings.h5')\n",
    "print(model.summary())"
   ]
  }
 ],
 "metadata": {
  "kernelspec": {
   "display_name": "Python 3",
   "language": "python",
   "name": "python3"
  },
  "language_info": {
   "codemirror_mode": {
    "name": "ipython",
    "version": 3
   },
   "file_extension": ".py",
   "mimetype": "text/x-python",
   "name": "python",
   "nbconvert_exporter": "python",
   "pygments_lexer": "ipython3",
   "version": "3.5.2"
  }
 },
 "nbformat": 4,
 "nbformat_minor": 2
}
