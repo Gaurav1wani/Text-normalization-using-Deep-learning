{
 "cells": [
  {
   "cell_type": "markdown",
   "metadata": {},
   "source": [
    "# Import required libraries"
   ]
  },
  {
   "cell_type": "code",
   "execution_count": 43,
   "metadata": {},
   "outputs": [],
   "source": [
    "from numpy import array\n",
    "from numpy import asarray\n",
    "from numpy import zeros\n",
    "from keras.preprocessing.text import Tokenizer\n",
    "from keras.preprocessing.sequence import pad_sequences\n",
    "from keras.models import Sequential\n",
    "from keras.layers import Dense, Flatten, Embedding, LSTM, GRU\n",
    "import numpy as np\n",
    "import pandas as pd\n",
    "from sklearn.preprocessing import LabelEncoder\n",
    "from keras.utils import np_utils\n",
    "import time\n",
    "from tqdm import *\n",
    "import tensorflow as tf\n",
    "import warnings\n",
    "warnings.filterwarnings('ignore')"
   ]
  },
  {
   "cell_type": "markdown",
   "metadata": {},
   "source": [
    "# Loading data from training file"
   ]
  },
  {
   "cell_type": "code",
   "execution_count": 44,
   "metadata": {},
   "outputs": [],
   "source": [
    "data = pd.read_csv('./en_train.csv', nrows= 1000000)\n",
    "check_results = data\n",
    "data = data[['class','before', 'after']]\n",
    "# Loading data in input and output variable from before and class columns\n",
    "x_train = data['before']\n",
    "y_train = data['class']"
   ]
  },
  {
   "cell_type": "markdown",
   "metadata": {},
   "source": [
    "# Converting labels to One hot encoding"
   ]
  },
  {
   "cell_type": "code",
   "execution_count": 45,
   "metadata": {},
   "outputs": [],
   "source": [
    "# Import values label encoder and fit output data\n",
    "encoder = LabelEncoder()\n",
    "encoder.fit(y_train)\n",
    "# encode class values as integers\n",
    "encoded_Y = encoder.transform(y_train)\n",
    "# convert integers to dummy variables (i.e. one hot encoded)\n",
    "labels_new = np_utils.to_categorical(encoded_Y)"
   ]
  },
  {
   "cell_type": "markdown",
   "metadata": {},
   "source": [
    "# Converting values from training data to strings"
   ]
  },
  {
   "cell_type": "code",
   "execution_count": 46,
   "metadata": {},
   "outputs": [
    {
     "name": "stderr",
     "output_type": "stream",
     "text": [
      "100%|██████████| 1000000/1000000 [00:23<00:00, 43111.46it/s]\n"
     ]
    }
   ],
   "source": [
    "n = len(x_train)\n",
    "inp_data = [0]*n\n",
    "for i in tqdm(range(n)):    \n",
    "    inp_data[i] = [(str(x_train[i]))]\n",
    "docs = inp_data"
   ]
  },
  {
   "cell_type": "markdown",
   "metadata": {},
   "source": [
    "# Tokenization and padding"
   ]
  },
  {
   "cell_type": "code",
   "execution_count": 47,
   "metadata": {},
   "outputs": [],
   "source": [
    "# prepare tokenizer\n",
    "t = Tokenizer()\n",
    "t.fit_on_texts(docs)\n",
    "vocab_size = len(t.word_index) + 1\n",
    "# integer encode the documents\n",
    "encoded_docs = t.texts_to_sequences(docs)\n",
    "\n",
    "# pad documents to a max length of 2 words\n",
    "max_length = 2\n",
    "padded_docs = pad_sequences(encoded_docs, maxlen=max_length, padding='post')\n"
   ]
  },
  {
   "cell_type": "markdown",
   "metadata": {},
   "source": [
    "# Loading data from Glove in-built dictionary"
   ]
  },
  {
   "cell_type": "code",
   "execution_count": 48,
   "metadata": {},
   "outputs": [
    {
     "name": "stdout",
     "output_type": "stream",
     "text": [
      "Loaded 400000 word vectors.\n"
     ]
    }
   ],
   "source": [
    "# load the whole embedding into memory\n",
    "embeddings_index = dict()\n",
    "f = open('./glove.6B/glove.6B.100d.txt')\n",
    "for line in f:\n",
    "\tvalues = line.split()\n",
    "\tword = values[0]\n",
    "\tcoefs = asarray(values[1:], dtype='float32')\n",
    "\tembeddings_index[word] = coefs\n",
    "f.close()\n",
    "print('Loaded %s word vectors.' % len(embeddings_index))"
   ]
  },
  {
   "cell_type": "markdown",
   "metadata": {},
   "source": [
    "# Load vector for each word as embedding matrix"
   ]
  },
  {
   "cell_type": "code",
   "execution_count": 49,
   "metadata": {},
   "outputs": [],
   "source": [
    "# create a weight matrix for words in training docs\n",
    "count = 0\n",
    "x_data = []\n",
    "# Vectors are of size of 100\n",
    "x_row = np.ones(100, dtype= float) * 0\n",
    "embedding_matrix = zeros((vocab_size, 100))\n",
    "wd = []\n",
    "\n",
    "for word, i in t.word_index.items():\n",
    "    # fetch the vector based on word given in get fucntion\n",
    "    embedding_vector = embeddings_index.get(word)\n",
    "    # If vector for given word exists then append it in embedding matrix\n",
    "    if embedding_vector is not None:\n",
    "        # Creating a list to track words that have embedding vectors\n",
    "        wd.append(word)\n",
    "        embedding_matrix[i] = embedding_vector\n",
    "    else:\n",
    "    # Create a list of words which don't have embeeding vectors\n",
    "        wd.append(word)\n",
    "        for xi, j in (zip(list(str(word)), np.arange(100))):\n",
    "            x_row[j] = ord(xi)\n",
    "        embedding_matrix[i] = x_row\n",
    "        count += 1"
   ]
  },
  {
   "cell_type": "code",
   "execution_count": 243,
   "metadata": {},
   "outputs": [
    {
     "name": "stdout",
     "output_type": "stream",
     "text": [
      "97713\n"
     ]
    }
   ],
   "source": [
    "# Count non-existing vectors\n",
    "print(len(embedding_matrix)) # for 34,888 words it could not find corresponding vectors"
   ]
  },
  {
   "cell_type": "code",
   "execution_count": 62,
   "metadata": {},
   "outputs": [
    {
     "data": {
      "text/plain": [
       "array([-1.89700007e-01,  5.00239991e-02,  1.90840006e-01, -4.91839983e-02,\n",
       "       -8.97369981e-02,  2.10060000e-01, -5.49520016e-01,  9.83769968e-02,\n",
       "       -2.01350003e-01,  3.42409998e-01, -9.26769972e-02,  1.60999998e-01,\n",
       "       -1.32679999e-01, -2.81599998e-01,  1.87370002e-01, -4.29589987e-01,\n",
       "        9.60389972e-01,  1.39719993e-01, -1.07809997e+00,  4.05180007e-01,\n",
       "        5.05389988e-01, -5.50639987e-01,  4.84400004e-01,  3.80439997e-01,\n",
       "       -2.90549989e-03, -3.49420011e-01, -9.96960029e-02, -7.83680022e-01,\n",
       "        1.03629994e+00, -2.31399998e-01, -4.71210003e-01,  5.71259975e-01,\n",
       "       -2.14540005e-01,  3.59580010e-01, -4.83190000e-01,  1.08749998e+00,\n",
       "        2.85239995e-01,  1.24470003e-01, -3.92480008e-02, -7.67320022e-02,\n",
       "       -7.63429999e-01, -3.24090004e-01, -5.74899971e-01, -1.08930004e+00,\n",
       "       -4.18110013e-01,  4.51200008e-01,  1.21119998e-01, -5.13670027e-01,\n",
       "       -1.33489996e-01, -1.13779998e+00, -2.87680000e-01,  1.67740002e-01,\n",
       "        5.58040023e-01,  1.53869998e+00,  1.88590009e-02, -2.97210002e+00,\n",
       "       -2.42160007e-01, -9.24950004e-01,  2.19919991e+00,  2.82339990e-01,\n",
       "       -3.47799987e-01,  5.16210020e-01, -4.33869988e-01,  3.68519992e-01,\n",
       "        7.45729983e-01,  7.21020028e-02,  2.79309988e-01,  9.25689995e-01,\n",
       "       -5.03359996e-02, -8.58560026e-01, -1.35800004e-01, -9.25509989e-01,\n",
       "       -3.39910001e-01, -1.03939998e+00, -6.72030002e-02, -2.13789999e-01,\n",
       "       -4.76900011e-01,  2.13770002e-01, -8.40080023e-01,  5.25359996e-02,\n",
       "        5.92980027e-01,  2.96039999e-01, -6.76440001e-01,  1.39160007e-01,\n",
       "       -1.55040002e+00, -2.07650006e-01,  7.22199976e-01,  5.20560026e-01,\n",
       "       -7.62209967e-02, -1.51940003e-01, -1.31339997e-01,  5.86169995e-02,\n",
       "       -3.18690002e-01, -6.14189982e-01, -6.23929977e-01, -4.15479988e-01,\n",
       "       -3.81750017e-02, -3.98039997e-01,  4.76469994e-01, -1.59830004e-01])"
      ]
     },
     "execution_count": 62,
     "metadata": {},
     "output_type": "execute_result"
    }
   ],
   "source": [
    "embedding_matrix[11]"
   ]
  },
  {
   "cell_type": "markdown",
   "metadata": {},
   "source": [
    "# Create a sequential model for embedding"
   ]
  },
  {
   "cell_type": "code",
   "execution_count": 20,
   "metadata": {},
   "outputs": [],
   "source": [
    "# define model\n",
    "model = Sequential()\n",
    "e = Embedding(vocab_size, 100, weights=[embedding_matrix], input_length=2, trainable=True)\n",
    "model.add(e)\n",
    "#model.add(LSTM(64, dropout=0.2))\n",
    "#model.add(LSTM(32, dropout = 0.2))\n",
    "model.add(GRU(64, dropout=0.2))\n",
    "#model.add(GRU(32, dropout = 0.2))\n",
    "model.add(Dense(16, activation='softmax'))"
   ]
  },
  {
   "cell_type": "code",
   "execution_count": 21,
   "metadata": {},
   "outputs": [],
   "source": [
    "from keras.callbacks import EarlyStopping\n",
    "earlystop = EarlyStopping(monitor='val_acc', min_delta=0.001, patience=5,verbose=1, mode='auto')\n",
    "callbacks_list = [earlystop]"
   ]
  },
  {
   "cell_type": "markdown",
   "metadata": {},
   "source": [
    "# Training Model and predicting accuracy"
   ]
  },
  {
   "cell_type": "code",
   "execution_count": 24,
   "metadata": {},
   "outputs": [
    {
     "name": "stdout",
     "output_type": "stream",
     "text": [
      "_________________________________________________________________\n",
      "Layer (type)                 Output Shape              Param #   \n",
      "=================================================================\n",
      "embedding_3 (Embedding)      (None, 2, 100)            9771300   \n",
      "_________________________________________________________________\n",
      "gru_1 (GRU)                  (None, 64)                31680     \n",
      "_________________________________________________________________\n",
      "dense_3 (Dense)              (None, 16)                1040      \n",
      "=================================================================\n",
      "Total params: 9,804,020\n",
      "Trainable params: 9,804,020\n",
      "Non-trainable params: 0\n",
      "_________________________________________________________________\n",
      "None\n",
      "Train on 720000 samples, validate on 180000 samples\n",
      "Epoch 1/50\n",
      "720000/720000 [==============================] - 1251s 2ms/step - loss: 0.0612 - acc: 0.9796 - val_loss: 0.0641 - val_acc: 0.9813\n",
      "Epoch 2/50\n",
      "720000/720000 [==============================] - 1248s 2ms/step - loss: 0.0600 - acc: 0.9802 - val_loss: 0.0646 - val_acc: 0.9805\n",
      "Epoch 3/50\n",
      "720000/720000 [==============================] - 1267s 2ms/step - loss: 0.0598 - acc: 0.9799 - val_loss: 0.0653 - val_acc: 0.9804\n",
      "Epoch 4/50\n",
      "720000/720000 [==============================] - 1257s 2ms/step - loss: 0.0598 - acc: 0.9799 - val_loss: 0.0717 - val_acc: 0.9784\n",
      "Epoch 5/50\n",
      "720000/720000 [==============================] - 1251s 2ms/step - loss: 0.0609 - acc: 0.9795 - val_loss: 0.0719 - val_acc: 0.9766\n",
      "Epoch 6/50\n",
      "720000/720000 [==============================] - 1256s 2ms/step - loss: 0.0598 - acc: 0.9799 - val_loss: 0.0693 - val_acc: 0.9778\n",
      "Epoch 00006: early stopping\n"
     ]
    },
    {
     "data": {
      "text/plain": [
       "<keras.callbacks.History at 0x7f03517e6a58>"
      ]
     },
     "execution_count": 24,
     "metadata": {},
     "output_type": "execute_result"
    }
   ],
   "source": [
    "# compile the model\n",
    "model.compile(optimizer='adam', loss='categorical_crossentropy', metrics=['acc'])\n",
    "\n",
    "# summarize the model\n",
    "print(model.summary())\n",
    "training_data = padded_docs[0:900000]\n",
    "training_labels = labels_new[0:900000]\n",
    "\n",
    "#training_data = training_data.reshape(-1, 1, 100)\n",
    "#training_labels = training_labels.reshape(-1, 1, 16)\n",
    "# fit the model Type 1\n",
    "model.fit(training_data, training_labels, batch_size=128, verbose=1,epochs = 50, callbacks=callbacks_list, validation_split = 0.2)\n"
   ]
  },
  {
   "cell_type": "markdown",
   "metadata": {},
   "source": [
    "# Testing model accuracy"
   ]
  },
  {
   "cell_type": "code",
   "execution_count": 25,
   "metadata": {},
   "outputs": [
    {
     "name": "stdout",
     "output_type": "stream",
     "text": [
      "100000/100000 [==============================] - 4s 39us/step\n",
      "Accuracy: 97.812000\n"
     ]
    }
   ],
   "source": [
    "# evaluate the model\n",
    "testing_data = padded_docs[900000:len(x_train)]\n",
    "testing_labels = labels_new[900000:len(y_train)]\n",
    "\n",
    "loss, accuracy = model.evaluate(testing_data, testing_labels, verbose=1)\n",
    "print('Accuracy: %f' % (accuracy*100))"
   ]
  },
  {
   "cell_type": "markdown",
   "metadata": {},
   "source": [
    "# Training using LSTM as first layer layers"
   ]
  },
  {
   "cell_type": "code",
   "execution_count": 27,
   "metadata": {},
   "outputs": [
    {
     "name": "stdout",
     "output_type": "stream",
     "text": [
      "Train on 900000 samples, validate on 100000 samples\n",
      "Epoch 1/10\n",
      "900000/900000 [==============================] - 146s 162us/step - loss: 0.0127 - acc: 0.8820 - val_loss: 0.0100 - val_acc: 0.8975\n",
      "Epoch 2/10\n",
      "900000/900000 [==============================] - 139s 154us/step - loss: 0.0095 - acc: 0.9173 - val_loss: 0.0089 - val_acc: 0.9232\n",
      "Epoch 3/10\n",
      "900000/900000 [==============================] - 141s 157us/step - loss: 0.0104 - acc: 0.9087 - val_loss: 0.0120 - val_acc: 0.8905\n",
      "Epoch 4/10\n",
      "900000/900000 [==============================] - 138s 154us/step - loss: 0.0118 - acc: 0.8883 - val_loss: 0.0112 - val_acc: 0.9021\n",
      "Epoch 5/10\n",
      "900000/900000 [==============================] - 140s 155us/step - loss: 0.0120 - acc: 0.8961 - val_loss: 0.0126 - val_acc: 0.8905\n",
      "Epoch 6/10\n",
      "900000/900000 [==============================] - 136s 151us/step - loss: 0.0120 - acc: 0.8926 - val_loss: 0.0112 - val_acc: 0.9021\n",
      "Epoch 7/10\n",
      "900000/900000 [==============================] - 134s 148us/step - loss: 0.0116 - acc: 0.8890 - val_loss: 0.0113 - val_acc: 0.8904\n",
      "Epoch 00007: early stopping\n"
     ]
    },
    {
     "data": {
      "text/plain": [
       "<keras.callbacks.History at 0x7f0349b02048>"
      ]
     },
     "execution_count": 27,
     "metadata": {},
     "output_type": "execute_result"
    }
   ],
   "source": [
    "from keras.callbacks import EarlyStopping\n",
    "\n",
    "training_data = padded_docs[0:900000]\n",
    "training_labels = labels_new[0:900000]\n",
    "\n",
    "training_data = np.reshape(training_data, (900000, 1, 2))\n",
    "\n",
    "testing_data = padded_docs[900000:len(x_train)]\n",
    "testing_labels = labels_new[900000:len(y_train)]\n",
    "\n",
    "testing_data = np.reshape(testing_data, (100000, 1, 2))\n",
    "\n",
    "model_new = Sequential()\n",
    "model_new.add(LSTM(100, dropout=0.0, recurrent_dropout=0.0,input_shape=(None, 2)))\n",
    "e = Embedding(vocab_size, 100, weights=[embedding_matrix], input_length=2, trainable=True)\n",
    "model.add(e)\n",
    "model_new.add(Dense(32))\n",
    "model_new.add(Dense(16, activation='softmax'))\n",
    "model_new.compile(loss='mean_squared_error', optimizer='adam', metrics=['acc'])\n",
    "monitor = EarlyStopping(monitor='val_acc', min_delta=1e-3, patience=5, verbose=1, mode='auto')\n",
    "model_new.fit(training_data,training_labels,validation_data=(testing_data,testing_labels),callbacks=[monitor],verbose=1,epochs=10)"
   ]
  },
  {
   "cell_type": "markdown",
   "metadata": {},
   "source": [
    "# Testing model accuracy"
   ]
  },
  {
   "cell_type": "code",
   "execution_count": 28,
   "metadata": {},
   "outputs": [
    {
     "name": "stdout",
     "output_type": "stream",
     "text": [
      "100000/100000 [==============================] - 3s 28us/step\n",
      "Accuracy: 89.036000\n"
     ]
    }
   ],
   "source": [
    "loss, accuracy = model_new.evaluate(testing_data, testing_labels, verbose=1)\n",
    "print('Accuracy: %f' % (accuracy*100))"
   ]
  },
  {
   "cell_type": "markdown",
   "metadata": {},
   "source": [
    "# Save Model"
   ]
  },
  {
   "cell_type": "code",
   "execution_count": 83,
   "metadata": {},
   "outputs": [],
   "source": [
    "# Creates a HDF5 file 'my_model.h5'\n",
    "model.save('model_LSTM_embeddings.h5')"
   ]
  },
  {
   "cell_type": "code",
   "execution_count": 11,
   "metadata": {},
   "outputs": [
    {
     "name": "stdout",
     "output_type": "stream",
     "text": [
      "_________________________________________________________________\n",
      "Layer (type)                 Output Shape              Param #   \n",
      "=================================================================\n",
      "embedding_1 (Embedding)      (None, 2, 100)            9771300   \n",
      "_________________________________________________________________\n",
      "lstm_1 (LSTM)                (None, 100)               80400     \n",
      "_________________________________________________________________\n",
      "dense_1 (Dense)              (None, 16)                1616      \n",
      "=================================================================\n",
      "Total params: 9,853,316\n",
      "Trainable params: 9,853,316\n",
      "Non-trainable params: 0\n",
      "_________________________________________________________________\n",
      "None\n"
     ]
    }
   ],
   "source": [
    "from keras.models import load_model\n",
    "# Returns a compiled model identical to the previous one\n",
    "model = load_model('model_LSTM_embeddings.h5')\n",
    "print(model.summary())"
   ]
  },
  {
   "cell_type": "markdown",
   "metadata": {},
   "source": [
    "# User input for sentence id"
   ]
  },
  {
   "cell_type": "code",
   "execution_count": 83,
   "metadata": {},
   "outputs": [
    {
     "name": "stdout",
     "output_type": "stream",
     "text": [
      "Please Enter one of the following id's: \n",
      " 1.1317 \n",
      " 2.78379 \n",
      " 3.75885 \n",
      " 4.28762 \n",
      " 5.6038 \n",
      " 6.11748 \n",
      " 7.9873 \n",
      " 8.10501 \n",
      " 9.11109 \n",
      " 10.3434\n",
      "Enter sentense id:75885\n",
      "['Payoneer', 'was', 'founded', 'in', '2005', 'with', '$2 million', 'in', 'seed', 'funding', 'from', 'then', 'CEO', 'Yuval', 'Tal', 'and', 'other', 'private', 'investors', '.']\n"
     ]
    }
   ],
   "source": [
    "print(\"Please Enter one of the following id's: \\n 1.1317 \\n 2.78379 \\n 3.75885 \\n 4.28762 \\n 5.6038 \\n 6.11748 \\n 7.9873 \\n 8.10501 \\n 9.11109 \\n 10.3434\")\n",
    "\n",
    "sent_id = input(\"Enter sentense id:\")\n",
    "words = check_results.loc[check_results['sentence_id'] == int(sent_id)]\n",
    "word = []\n",
    "for i in words['before']:\n",
    "    word.append(i)\n",
    "print(word)"
   ]
  },
  {
   "cell_type": "markdown",
   "metadata": {},
   "source": [
    "# Processing sentense and predicting class of each text"
   ]
  },
  {
   "cell_type": "code",
   "execution_count": 84,
   "metadata": {},
   "outputs": [
    {
     "name": "stdout",
     "output_type": "stream",
     "text": [
      "['DATE', 'PLAIN', 'PLAIN', 'PLAIN', 'DATE', 'PLAIN', 'MONEY', 'PLAIN', 'PLAIN', 'PLAIN', 'PLAIN', 'PLAIN', 'LETTERS', 'PLAIN', 'PLAIN', 'PLAIN', 'PLAIN', 'PLAIN', 'PLAIN', 'PUNCT']\n"
     ]
    }
   ],
   "source": [
    "list_of_ids = words['before'].index\n",
    "start_index = list_of_ids[0]\n",
    "end_index = start_index + len(list_of_ids)\n",
    "testing_data = padded_docs[0:len(x_train)]\n",
    "result = model.predict(testing_data[start_index:end_index])\n",
    "\n",
    "print(list(encoder.inverse_transform(np.argmax(result, axis=1))))\n",
    "classes = list(encoder.inverse_transform(np.argmax(result, axis=1)))"
   ]
  },
  {
   "cell_type": "markdown",
   "metadata": {},
   "source": [
    "# Call regular expression file for corresponding classes"
   ]
  },
  {
   "cell_type": "code",
   "execution_count": 69,
   "metadata": {},
   "outputs": [],
   "source": [
    "from RegEx_converter_v3 import cardinal, digit, letters, ordinal, address, telephone, electronic, fraction, money, date, plain, verbatim, time"
   ]
  },
  {
   "cell_type": "code",
   "execution_count": 85,
   "metadata": {},
   "outputs": [],
   "source": [
    "output = []\n",
    "\n",
    "for i in range(len(classes)):\n",
    "    if(classes[i] == \"CARDINAL\"):\n",
    "        output.append(cardinal(word[i]))\n",
    "    elif(classes[i] == \"DIGIT\"):\n",
    "        output.append(digit(word[i]))\n",
    "    elif(classes[i] == \"LETTERS\"):\n",
    "        output.append(letters(word[i]))\n",
    "    elif(classes[i] == \"ORDINAL\"):\n",
    "        output.append(ordinal(word[i]))\n",
    "    elif(classes[i] == 'ADDRESS'):\n",
    "        output.append(address(word[i]))\n",
    "    elif(classes[i] == 'TELEPHONE'):\n",
    "        output.append(telephone(word[i]))\n",
    "    elif(classes[i] == 'ELECTRONIC'):\n",
    "        output.append(electronic(word[i]))\n",
    "    elif(classes[i] == 'FRACTION'):\n",
    "        output.append(fraction(word[i]))\n",
    "    elif(classes[i] == 'MONEY'):\n",
    "        output.append(money(word[i])) \n",
    "    elif(classes[i] == 'PLAIN'):\n",
    "        output.append(plain(word[i]))\n",
    "    elif(classes[i] == 'DATE'):\n",
    "        output.append(date(word[i]))\n",
    "    elif(classes[i] == 'VERBATIM'):\n",
    "        output.append(verbatim(word[i]))\n",
    "    elif(classes[i] == 'TIME'):\n",
    "        output.append(time(word[i]))    \n",
    "    else:\n",
    "        output.append(word[i])  "
   ]
  },
  {
   "cell_type": "code",
   "execution_count": 86,
   "metadata": {},
   "outputs": [
    {
     "name": "stdout",
     "output_type": "stream",
     "text": [
      "Payoneer was founded in two thousand five with two million dollars in seed funding from then c e o Yuval Tal and other private investors .\n"
     ]
    }
   ],
   "source": [
    "result = ' '.join(output)\n",
    "print(str(result))"
   ]
  },
  {
   "cell_type": "markdown",
   "metadata": {},
   "source": [
    "# Inflect engine converter"
   ]
  },
  {
   "cell_type": "code",
   "execution_count": 72,
   "metadata": {},
   "outputs": [],
   "source": [
    "import inflect\n",
    "import re"
   ]
  },
  {
   "cell_type": "code",
   "execution_count": 87,
   "metadata": {},
   "outputs": [
    {
     "name": "stdout",
     "output_type": "stream",
     "text": [
      "['Payoneer', 'was', 'founded', 'in', 'two thousand and five', 'with', 'two', 'in', 'seed', 'funding', 'from', 'then', 'CEO', 'Yuval', 'Tal', 'and', 'other', 'private', 'investors', '.']\n"
     ]
    }
   ],
   "source": [
    "p = inflect.engine()\n",
    "inflect_result = []\n",
    "for i in word:\n",
    "    if(re.match('.*[0-9]+[a-zA-z]*', i)):        \n",
    "        inflect_result.append(p.number_to_words(re.sub(\"[^0-9]\", \"\", i)))\n",
    "    else:\n",
    "        inflect_result.append(i)\n",
    "print(inflect_result)"
   ]
  },
  {
   "cell_type": "markdown",
   "metadata": {},
   "source": [
    "# Play audio file in Jupyter notebook"
   ]
  },
  {
   "cell_type": "code",
   "execution_count": 17,
   "metadata": {},
   "outputs": [],
   "source": [
    "import IPython.display as ipd"
   ]
  },
  {
   "cell_type": "code",
   "execution_count": 39,
   "metadata": {},
   "outputs": [],
   "source": [
    "def switch_code(arg):\n",
    "    switcher_engine = {\n",
    "        78379 : \"./Audio_files/output_date_engine.mp3\",\n",
    "        75885 : \"./Audio_files/output_money_engine.mp3\",\n",
    "        28762 : \"./Audio_files/output_fraction_engine.mp3\",\n",
    "        6038 : \"./Audio_files/output_time_engine.mp3\",\n",
    "        1317 : \"./Audio_files/output_telephone_engine.mp3\",\n",
    "        11748: \"./Audio_files/output_combined_LETTERS_engine.mp3\",\n",
    "        3434: \"./Audio_files/output_combined_Money_engine.mp3\",\n",
    "        11109: \"./Audio_files/output_combined_DATE_engine.mp3\",\n",
    "        9873: \"./Audio_files/output_cardinal_engine.mp3\",\n",
    "        10501: \"./Audio_files/output_ordinal_engine.mp3\"        \n",
    "    } \n",
    "    \n",
    "    #print(switcher.get(arg))\n",
    "    return switcher_engine.get(arg)"
   ]
  },
  {
   "cell_type": "code",
   "execution_count": 40,
   "metadata": {},
   "outputs": [],
   "source": [
    "def switch_lstm(arg):\n",
    "    switcher_lstm = {\n",
    "        78379 : \"./Audio_files/output_date_lstm.mp3\",\n",
    "        75885 : \"./Audio_files/output_money_lstm.mp3\",\n",
    "        28762 : \"./Audio_files/output_fraction_lst.mp3\",\n",
    "        6038 : \"./Audio_files/output_time_lstm.mp3\",\n",
    "        1317 : \"./Audio_files/output_telephone_lstm.mp3\",\n",
    "        11748: \"./Audio_files/output_combined_LETTERS_lstm.mp3\",\n",
    "        3434: \"./Audio_files/output_combined_Money_lstm.mp3\",\n",
    "        11109 : \"./Audio_files/output_combined_DATE_lstm.mp3\",\n",
    "        9873: \"./Audio_files/output_cardinal_lstm.mp3\",\n",
    "        10501: \"./Audio_files/output_ordinal_lstm.mp3\"        \n",
    "    }\n",
    "    #print(switcher.get(arg))\n",
    "    return switcher_lstm.get(arg)"
   ]
  },
  {
   "cell_type": "code",
   "execution_count": 88,
   "metadata": {},
   "outputs": [
    {
     "name": "stdout",
     "output_type": "stream",
     "text": [
      "\n",
      " Input sentence: Payoneer was founded in 2005 with $2 million in seed funding from then CEO Yuval Tal and other private investors .\n",
      "\n",
      "\n",
      " Ouput of inflect engine:  Payoneer was founded in two thousand and five with two in seed funding from then CEO Yuval Tal and other private investors .\n",
      "\n",
      "\n",
      " Running Audio Generated for inflect Engine:\n"
     ]
    },
    {
     "data": {
      "text/html": [
       "\n",
       "                <audio controls=\"controls\" >\n",
       "                    <source src=\"data:audio/mpeg;base64,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\" type=\"audio/mpeg\" />\n",
       "                    Your browser does not support the audio element.\n",
       "                </audio>\n",
       "              "
      ],
      "text/plain": [
       "<IPython.lib.display.Audio object>"
      ]
     },
     "execution_count": 88,
     "metadata": {},
     "output_type": "execute_result"
    }
   ],
   "source": [
    "word1 = ' '.join(word)\n",
    "print(\"\\n Input sentence:\", word1)\n",
    "\n",
    "inflect_result1 = ' '.join(inflect_result)\n",
    "print(\"\\n\\n Ouput of inflect engine: \", inflect_result1)\n",
    "print(\"\\n\\n Running Audio Generated for inflect Engine:\")\n",
    "ipd.Audio(switch_code(int(sent_id)))\n",
    "\n",
    "#switch_code(sent_id)"
   ]
  },
  {
   "cell_type": "code",
   "execution_count": 90,
   "metadata": {},
   "outputs": [
    {
     "name": "stdout",
     "output_type": "stream",
     "text": [
      "\n",
      " Ouput of LSTM:  Payoneer was founded in two thousand five with two million dollars in seed funding from then c e o Yuval Tal and other private investors .\n",
      "\n",
      "\n",
      " Running Audio Generated for LSTM:\n"
     ]
    },
    {
     "data": {
      "text/html": [
       "\n",
       "                <audio controls=\"controls\" >\n",
       "                    <source src=\"data:audio/mpeg;base64,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\" type=\"audio/mpeg\" />\n",
       "                    Your browser does not support the audio element.\n",
       "                </audio>\n",
       "              "
      ],
      "text/plain": [
       "<IPython.lib.display.Audio object>"
      ]
     },
     "execution_count": 90,
     "metadata": {},
     "output_type": "execute_result"
    }
   ],
   "source": [
    "print(\"\\n Ouput of LSTM: \", result)\n",
    "print(\"\\n\\n Running Audio Generated for LSTM:\")\n",
    "ipd.Audio(switch_lstm(int(sent_id)))"
   ]
  }
 ],
 "metadata": {
  "kernelspec": {
   "display_name": "Python 3",
   "language": "python",
   "name": "python3"
  },
  "language_info": {
   "codemirror_mode": {
    "name": "ipython",
    "version": 3
   },
   "file_extension": ".py",
   "mimetype": "text/x-python",
   "name": "python",
   "nbconvert_exporter": "python",
   "pygments_lexer": "ipython3",
   "version": "3.5.2"
  }
 },
 "nbformat": 4,
 "nbformat_minor": 2
}
